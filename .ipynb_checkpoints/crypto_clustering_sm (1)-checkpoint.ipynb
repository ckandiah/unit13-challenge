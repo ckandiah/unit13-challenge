{
 "cells": [
  {
   "cell_type": "markdown",
   "metadata": {},
   "source": [
    "# Clustering Crypto"
   ]
  },
  {
   "cell_type": "code",
   "execution_count": 3,
   "metadata": {},
   "outputs": [
    {
     "name": "stdout",
     "output_type": "stream",
     "text": [
      "Requirement already satisfied: matplotlib in /home/ec2-user/anaconda3/envs/python3/lib/python3.6/site-packages (3.3.4)\n",
      "Requirement already satisfied: numpy>=1.15 in /home/ec2-user/anaconda3/envs/python3/lib/python3.6/site-packages (from matplotlib) (1.19.5)\n",
      "Requirement already satisfied: python-dateutil>=2.1 in /home/ec2-user/anaconda3/envs/python3/lib/python3.6/site-packages (from matplotlib) (2.8.1)\n",
      "Requirement already satisfied: pyparsing!=2.0.4,!=2.1.2,!=2.1.6,>=2.0.3 in /home/ec2-user/anaconda3/envs/python3/lib/python3.6/site-packages (from matplotlib) (2.4.7)\n",
      "Requirement already satisfied: pillow>=6.2.0 in /home/ec2-user/anaconda3/envs/python3/lib/python3.6/site-packages (from matplotlib) (7.2.0)\n",
      "Requirement already satisfied: kiwisolver>=1.0.1 in /home/ec2-user/anaconda3/envs/python3/lib/python3.6/site-packages (from matplotlib) (1.3.1)\n",
      "Requirement already satisfied: cycler>=0.10 in /home/ec2-user/anaconda3/envs/python3/lib/python3.6/site-packages (from matplotlib) (0.10.0)\n",
      "Requirement already satisfied: six in /home/ec2-user/anaconda3/envs/python3/lib/python3.6/site-packages (from cycler>=0.10->matplotlib) (1.15.0)\n"
     ]
    }
   ],
   "source": [
    "# Initial imports\n",
    "import requests\n",
    "import pandas as pd\n",
    "#!pip install matplotlib\n",
    "import matplotlib.pyplot as plt\n",
    "#!pip install hvplot\n",
    "import hvplot.pandas\n",
    "import plotly.express as px\n",
    "from sklearn.preprocessing import StandardScaler, MinMaxScaler\n",
    "from sklearn.decomposition import PCA\n",
    "from sklearn.cluster import KMeans\n",
    "#!pip install -U altair"
   ]
  },
  {
   "cell_type": "markdown",
   "metadata": {},
   "source": [
    "### Fetching Cryptocurrency Data"
   ]
  },
  {
   "cell_type": "code",
   "execution_count": 77,
   "metadata": {},
   "outputs": [],
   "source": [
    "# Use the following endpoint to fetch json data\n",
    "url = \"https://min-api.cryptocompare.com/data/all/coinlist\""
   ]
  },
  {
   "cell_type": "code",
   "execution_count": 78,
   "metadata": {},
   "outputs": [],
   "source": [
    "# Create a DataFrame \n",
    "# HINT: You will need to use the 'Data' key from the json response, then transpose the DataFrame."
   ]
  },
  {
   "cell_type": "code",
   "execution_count": 5,
   "metadata": {},
   "outputs": [
    {
     "data": {
      "text/html": [
       "<div>\n",
       "<style scoped>\n",
       "    .dataframe tbody tr th:only-of-type {\n",
       "        vertical-align: middle;\n",
       "    }\n",
       "\n",
       "    .dataframe tbody tr th {\n",
       "        vertical-align: top;\n",
       "    }\n",
       "\n",
       "    .dataframe thead th {\n",
       "        text-align: right;\n",
       "    }\n",
       "</style>\n",
       "<table border=\"1\" class=\"dataframe\">\n",
       "  <thead>\n",
       "    <tr style=\"text-align: right;\">\n",
       "      <th></th>\n",
       "      <th>Unnamed: 0</th>\n",
       "      <th>CoinName</th>\n",
       "      <th>Algorithm</th>\n",
       "      <th>IsTrading</th>\n",
       "      <th>ProofType</th>\n",
       "      <th>TotalCoinsMined</th>\n",
       "      <th>TotalCoinSupply</th>\n",
       "    </tr>\n",
       "  </thead>\n",
       "  <tbody>\n",
       "    <tr>\n",
       "      <th>0</th>\n",
       "      <td>42</td>\n",
       "      <td>42 Coin</td>\n",
       "      <td>Scrypt</td>\n",
       "      <td>True</td>\n",
       "      <td>PoW/PoS</td>\n",
       "      <td>4.199995e+01</td>\n",
       "      <td>42</td>\n",
       "    </tr>\n",
       "    <tr>\n",
       "      <th>1</th>\n",
       "      <td>365</td>\n",
       "      <td>365Coin</td>\n",
       "      <td>X11</td>\n",
       "      <td>True</td>\n",
       "      <td>PoW/PoS</td>\n",
       "      <td>NaN</td>\n",
       "      <td>2300000000</td>\n",
       "    </tr>\n",
       "    <tr>\n",
       "      <th>2</th>\n",
       "      <td>404</td>\n",
       "      <td>404Coin</td>\n",
       "      <td>Scrypt</td>\n",
       "      <td>True</td>\n",
       "      <td>PoW/PoS</td>\n",
       "      <td>1.055185e+09</td>\n",
       "      <td>532000000</td>\n",
       "    </tr>\n",
       "    <tr>\n",
       "      <th>3</th>\n",
       "      <td>611</td>\n",
       "      <td>SixEleven</td>\n",
       "      <td>SHA-256</td>\n",
       "      <td>True</td>\n",
       "      <td>PoW</td>\n",
       "      <td>NaN</td>\n",
       "      <td>611000</td>\n",
       "    </tr>\n",
       "    <tr>\n",
       "      <th>4</th>\n",
       "      <td>808</td>\n",
       "      <td>808</td>\n",
       "      <td>SHA-256</td>\n",
       "      <td>True</td>\n",
       "      <td>PoW/PoS</td>\n",
       "      <td>0.000000e+00</td>\n",
       "      <td>0</td>\n",
       "    </tr>\n",
       "  </tbody>\n",
       "</table>\n",
       "</div>"
      ],
      "text/plain": [
       "  Unnamed: 0   CoinName Algorithm  IsTrading ProofType  TotalCoinsMined  \\\n",
       "0         42    42 Coin    Scrypt       True   PoW/PoS     4.199995e+01   \n",
       "1        365    365Coin       X11       True   PoW/PoS              NaN   \n",
       "2        404    404Coin    Scrypt       True   PoW/PoS     1.055185e+09   \n",
       "3        611  SixEleven   SHA-256       True       PoW              NaN   \n",
       "4        808        808   SHA-256       True   PoW/PoS     0.000000e+00   \n",
       "\n",
       "  TotalCoinSupply  \n",
       "0              42  \n",
       "1      2300000000  \n",
       "2       532000000  \n",
       "3          611000  \n",
       "4               0  "
      ]
     },
     "execution_count": 5,
     "metadata": {},
     "output_type": "execute_result"
    }
   ],
   "source": [
    "# Alternatively, use the provided csv file:\n",
    "# file_path = Path(\"Resources/crypto_data.csv\")\n",
    "from pathlib import Path\n",
    "file_path = Path(\"Data/crypto_data.csv\")\n",
    "# Create a DataFrame\n",
    "\n",
    "crypto_df=pd.read_csv(file_path)\n",
    "crypto_df.head(5)\n"
   ]
  },
  {
   "cell_type": "markdown",
   "metadata": {},
   "source": [
    "### Data Preprocessing"
   ]
  },
  {
   "cell_type": "code",
   "execution_count": 6,
   "metadata": {},
   "outputs": [],
   "source": [
    "# Keep only necessary columns:\n",
    "# 'CoinName','Algorithm','IsTrading','ProofType','TotalCoinsMined','TotalCoinSupply'\n",
    "crypto_df.drop(['Unnamed: 0'],axis='columns',inplace =True)"
   ]
  },
  {
   "cell_type": "code",
   "execution_count": 7,
   "metadata": {},
   "outputs": [
    {
     "data": {
      "text/plain": [
       "True    1144\n",
       "Name: IsTrading, dtype: int64"
      ]
     },
     "execution_count": 7,
     "metadata": {},
     "output_type": "execute_result"
    }
   ],
   "source": [
    "# Keep only cryptocurrencies that are trading\n",
    "t_crypto_df= crypto_df.loc[crypto_df['IsTrading']==True]\n",
    "t_crypto_df['IsTrading'].value_counts()"
   ]
  },
  {
   "cell_type": "code",
   "execution_count": 8,
   "metadata": {},
   "outputs": [],
   "source": [
    "# Keep only cryptocurrencies with a working algorithm\n",
    "at_crypto_df= t_crypto_df.loc[t_crypto_df['Algorithm']!='NaN']"
   ]
  },
  {
   "cell_type": "code",
   "execution_count": 9,
   "metadata": {},
   "outputs": [],
   "source": [
    "# Remove the \"IsTrading\" column\n",
    "at_crypto_df.drop(['IsTrading'],axis='columns',inplace =True)"
   ]
  },
  {
   "cell_type": "code",
   "execution_count": 10,
   "metadata": {},
   "outputs": [],
   "source": [
    "# Remove rows with at least 1 null value\n",
    "at_crypto_df.dropna(inplace = True)"
   ]
  },
  {
   "cell_type": "code",
   "execution_count": 11,
   "metadata": {},
   "outputs": [],
   "source": [
    "# Remove rows with cryptocurrencies having no coins mined\n",
    "at_crypto_df= at_crypto_df.loc[crypto_df['TotalCoinsMined']>0]"
   ]
  },
  {
   "cell_type": "code",
   "execution_count": 12,
   "metadata": {},
   "outputs": [
    {
     "data": {
      "text/html": [
       "<div>\n",
       "<style scoped>\n",
       "    .dataframe tbody tr th:only-of-type {\n",
       "        vertical-align: middle;\n",
       "    }\n",
       "\n",
       "    .dataframe tbody tr th {\n",
       "        vertical-align: top;\n",
       "    }\n",
       "\n",
       "    .dataframe thead th {\n",
       "        text-align: right;\n",
       "    }\n",
       "</style>\n",
       "<table border=\"1\" class=\"dataframe\">\n",
       "  <thead>\n",
       "    <tr style=\"text-align: right;\">\n",
       "      <th></th>\n",
       "      <th>CoinName</th>\n",
       "      <th>Algorithm</th>\n",
       "      <th>ProofType</th>\n",
       "      <th>TotalCoinsMined</th>\n",
       "      <th>TotalCoinSupply</th>\n",
       "    </tr>\n",
       "  </thead>\n",
       "  <tbody>\n",
       "    <tr>\n",
       "      <th>0</th>\n",
       "      <td>42 Coin</td>\n",
       "      <td>Scrypt</td>\n",
       "      <td>PoW/PoS</td>\n",
       "      <td>4.199995e+01</td>\n",
       "      <td>42</td>\n",
       "    </tr>\n",
       "    <tr>\n",
       "      <th>2</th>\n",
       "      <td>404Coin</td>\n",
       "      <td>Scrypt</td>\n",
       "      <td>PoW/PoS</td>\n",
       "      <td>1.055185e+09</td>\n",
       "      <td>532000000</td>\n",
       "    </tr>\n",
       "    <tr>\n",
       "      <th>5</th>\n",
       "      <td>EliteCoin</td>\n",
       "      <td>X13</td>\n",
       "      <td>PoW/PoS</td>\n",
       "      <td>2.927942e+10</td>\n",
       "      <td>314159265359</td>\n",
       "    </tr>\n",
       "    <tr>\n",
       "      <th>7</th>\n",
       "      <td>Bitcoin</td>\n",
       "      <td>SHA-256</td>\n",
       "      <td>PoW</td>\n",
       "      <td>1.792718e+07</td>\n",
       "      <td>21000000</td>\n",
       "    </tr>\n",
       "    <tr>\n",
       "      <th>8</th>\n",
       "      <td>Ethereum</td>\n",
       "      <td>Ethash</td>\n",
       "      <td>PoW</td>\n",
       "      <td>1.076842e+08</td>\n",
       "      <td>0</td>\n",
       "    </tr>\n",
       "  </tbody>\n",
       "</table>\n",
       "</div>"
      ],
      "text/plain": [
       "    CoinName Algorithm ProofType  TotalCoinsMined TotalCoinSupply\n",
       "0    42 Coin    Scrypt   PoW/PoS     4.199995e+01              42\n",
       "2    404Coin    Scrypt   PoW/PoS     1.055185e+09       532000000\n",
       "5  EliteCoin       X13   PoW/PoS     2.927942e+10    314159265359\n",
       "7    Bitcoin   SHA-256       PoW     1.792718e+07        21000000\n",
       "8   Ethereum    Ethash       PoW     1.076842e+08               0"
      ]
     },
     "execution_count": 12,
     "metadata": {},
     "output_type": "execute_result"
    }
   ],
   "source": [
    "# Drop rows where there are 'N/A' text values\n",
    "columnname = str\n",
    "for columnname in at_crypto_df.columns:\n",
    "    if at_crypto_df[columnname].dtypes !=  \"float\":\n",
    "        at_crypto_df=at_crypto_df[at_crypto_df[columnname].str.contains(\"N/A\")==False]\n",
    "\n",
    "at_crypto_df_copy = at_crypto_df.copy()\n",
    "at_crypto_df.head()"
   ]
  },
  {
   "cell_type": "code",
   "execution_count": 13,
   "metadata": {},
   "outputs": [],
   "source": [
    "# Store the 'CoinName'column in its own DataFrame prior to dropping it from crypto_df\n",
    "coinname_df=at_crypto_df['CoinName']\n"
   ]
  },
  {
   "cell_type": "code",
   "execution_count": 14,
   "metadata": {},
   "outputs": [],
   "source": [
    "# Drop the 'CoinName' column since it's not going to be used on the clustering algorithm\n",
    "features=at_crypto_df.drop(columns=['CoinName'], inplace = True,axis =1)\n"
   ]
  },
  {
   "cell_type": "code",
   "execution_count": 15,
   "metadata": {},
   "outputs": [],
   "source": [
    "# Create dummy variables for text features\n",
    "features= pd.get_dummies(at_crypto_df,columns=['Algorithm','ProofType'])"
   ]
  },
  {
   "cell_type": "code",
   "execution_count": 16,
   "metadata": {},
   "outputs": [
    {
     "name": "stdout",
     "output_type": "stream",
     "text": [
      "[[-0.11710817 -0.1528703  -0.0433963  -0.0433963  -0.0433963  -0.06142951\n",
      "  -0.07530656 -0.0433963  -0.06142951 -0.06142951 -0.0433963  -0.0433963\n",
      "  -0.19245009 -0.06142951 -0.09740465 -0.0433963  -0.11547005 -0.07530656\n",
      "  -0.0433963  -0.0433963  -0.15191091 -0.0433963  -0.13118084 -0.0433963\n",
      "  -0.0433963  -0.08703883 -0.0433963  -0.0433963  -0.0433963  -0.0433963\n",
      "  -0.06142951 -0.0433963  -0.08703883 -0.08703883 -0.08703883 -0.0433963\n",
      "  -0.13118084 -0.13840913 -0.13840913 -0.0433963  -0.06142951 -0.0433963\n",
      "  -0.07530656 -0.18168574 -0.0433963  -0.0433963  -0.0433963  -0.07530656\n",
      "  -0.15826614 -0.31491833 -0.0433963  -0.08703883 -0.07530656 -0.06142951\n",
      "   1.38675049 -0.0433963  -0.0433963  -0.06142951 -0.0433963  -0.0433963\n",
      "  -0.0433963  -0.0433963  -0.0433963  -0.0433963  -0.0433963  -0.0433963\n",
      "  -0.39879994 -0.0433963  -0.18168574 -0.0433963  -0.08703883 -0.08703883\n",
      "  -0.10680283 -0.0433963  -0.13118084 -0.0433963  -0.0433963  -0.0433963\n",
      "  -0.0433963  -0.07530656 -0.43911856 -0.0433963  -0.06142951 -0.0433963\n",
      "  -0.0433963  -0.89632016 -0.0433963  -0.0433963   1.42222617 -0.0433963\n",
      "  -0.0433963  -0.0433963  -0.0433963  -0.0433963  -0.0433963  -0.0433963\n",
      "  -0.0433963  -0.0433963 ]\n",
      " [-0.09396955 -0.145009   -0.0433963  -0.0433963  -0.0433963  -0.06142951\n",
      "  -0.07530656 -0.0433963  -0.06142951 -0.06142951 -0.0433963  -0.0433963\n",
      "  -0.19245009 -0.06142951 -0.09740465 -0.0433963  -0.11547005 -0.07530656\n",
      "  -0.0433963  -0.0433963  -0.15191091 -0.0433963  -0.13118084 -0.0433963\n",
      "  -0.0433963  -0.08703883 -0.0433963  -0.0433963  -0.0433963  -0.0433963\n",
      "  -0.06142951 -0.0433963  -0.08703883 -0.08703883 -0.08703883 -0.0433963\n",
      "  -0.13118084 -0.13840913 -0.13840913 -0.0433963  -0.06142951 -0.0433963\n",
      "  -0.07530656 -0.18168574 -0.0433963  -0.0433963  -0.0433963  -0.07530656\n",
      "  -0.15826614 -0.31491833 -0.0433963  -0.08703883 -0.07530656 -0.06142951\n",
      "   1.38675049 -0.0433963  -0.0433963  -0.06142951 -0.0433963  -0.0433963\n",
      "  -0.0433963  -0.0433963  -0.0433963  -0.0433963  -0.0433963  -0.0433963\n",
      "  -0.39879994 -0.0433963  -0.18168574 -0.0433963  -0.08703883 -0.08703883\n",
      "  -0.10680283 -0.0433963  -0.13118084 -0.0433963  -0.0433963  -0.0433963\n",
      "  -0.0433963  -0.07530656 -0.43911856 -0.0433963  -0.06142951 -0.0433963\n",
      "  -0.0433963  -0.89632016 -0.0433963  -0.0433963   1.42222617 -0.0433963\n",
      "  -0.0433963  -0.0433963  -0.0433963  -0.0433963  -0.0433963  -0.0433963\n",
      "  -0.0433963  -0.0433963 ]]\n"
     ]
    }
   ],
   "source": [
    "# Standardize data\n",
    "features['TotalCoinSupply'] =pd.to_numeric(features['TotalCoinSupply'], downcast ='float')\n",
    "features_scaled = StandardScaler().fit_transform(features)\n",
    "print(features_scaled[0:2])\n"
   ]
  },
  {
   "cell_type": "markdown",
   "metadata": {},
   "source": [
    "### Reducing Dimensions Using PCA"
   ]
  },
  {
   "cell_type": "code",
   "execution_count": 17,
   "metadata": {},
   "outputs": [],
   "source": [
    "# Use PCA to reduce dimensions to 3 principal components\n",
    "pca = PCA(n_components=3)\n",
    "features_pca = pca.fit_transform(features_scaled)"
   ]
  },
  {
   "cell_type": "code",
   "execution_count": 18,
   "metadata": {},
   "outputs": [
    {
     "data": {
      "text/html": [
       "<div>\n",
       "<style scoped>\n",
       "    .dataframe tbody tr th:only-of-type {\n",
       "        vertical-align: middle;\n",
       "    }\n",
       "\n",
       "    .dataframe tbody tr th {\n",
       "        vertical-align: top;\n",
       "    }\n",
       "\n",
       "    .dataframe thead th {\n",
       "        text-align: right;\n",
       "    }\n",
       "</style>\n",
       "<table border=\"1\" class=\"dataframe\">\n",
       "  <thead>\n",
       "    <tr style=\"text-align: right;\">\n",
       "      <th></th>\n",
       "      <th>principal component 1</th>\n",
       "      <th>principal component 2</th>\n",
       "      <th>principal component 3</th>\n",
       "    </tr>\n",
       "    <tr>\n",
       "      <th>CoinName</th>\n",
       "      <th></th>\n",
       "      <th></th>\n",
       "      <th></th>\n",
       "    </tr>\n",
       "  </thead>\n",
       "  <tbody>\n",
       "    <tr>\n",
       "      <th>42 Coin</th>\n",
       "      <td>-0.333823</td>\n",
       "      <td>1.017566</td>\n",
       "      <td>-0.509029</td>\n",
       "    </tr>\n",
       "    <tr>\n",
       "      <th>404Coin</th>\n",
       "      <td>-0.317156</td>\n",
       "      <td>1.017748</td>\n",
       "      <td>-0.509478</td>\n",
       "    </tr>\n",
       "    <tr>\n",
       "      <th>EliteCoin</th>\n",
       "      <td>2.294032</td>\n",
       "      <td>1.615351</td>\n",
       "      <td>-0.532582</td>\n",
       "    </tr>\n",
       "    <tr>\n",
       "      <th>Bitcoin</th>\n",
       "      <td>-0.147575</td>\n",
       "      <td>-1.312309</td>\n",
       "      <td>0.179119</td>\n",
       "    </tr>\n",
       "    <tr>\n",
       "      <th>Ethereum</th>\n",
       "      <td>-0.148726</td>\n",
       "      <td>-1.992069</td>\n",
       "      <td>0.376441</td>\n",
       "    </tr>\n",
       "  </tbody>\n",
       "</table>\n",
       "</div>"
      ],
      "text/plain": [
       "           principal component 1  principal component 2  principal component 3\n",
       "CoinName                                                                      \n",
       "42 Coin                -0.333823               1.017566              -0.509029\n",
       "404Coin                -0.317156               1.017748              -0.509478\n",
       "EliteCoin               2.294032               1.615351              -0.532582\n",
       "Bitcoin                -0.147575              -1.312309               0.179119\n",
       "Ethereum               -0.148726              -1.992069               0.376441"
      ]
     },
     "execution_count": 18,
     "metadata": {},
     "output_type": "execute_result"
    }
   ],
   "source": [
    "# Create a DataFrame with the principal components data\n",
    "features_pca = pd.DataFrame(\n",
    "    data=features_pca, columns=[\"principal component 1\", \"principal component 2\",\"principal component 3\"], \n",
    "    index=coinname_df)\n",
    "features_pca.head()"
   ]
  },
  {
   "cell_type": "markdown",
   "metadata": {},
   "source": [
    "### Clustering Crytocurrencies Using K-Means\n",
    "\n",
    "#### Find the Best Value for `k` Using the Elbow Curve"
   ]
  },
  {
   "cell_type": "code",
   "execution_count": 20,
   "metadata": {},
   "outputs": [
    {
     "data": {
      "text/html": [
       "\n",
       "<div id=\"altair-viz-5410e484bba94e03b0b82cb3ca826f40\"></div>\n",
       "<script type=\"text/javascript\">\n",
       "  (function(spec, embedOpt){\n",
       "    let outputDiv = document.currentScript.previousElementSibling;\n",
       "    if (outputDiv.id !== \"altair-viz-5410e484bba94e03b0b82cb3ca826f40\") {\n",
       "      outputDiv = document.getElementById(\"altair-viz-5410e484bba94e03b0b82cb3ca826f40\");\n",
       "    }\n",
       "    const paths = {\n",
       "      \"vega\": \"https://cdn.jsdelivr.net/npm//vega@5?noext\",\n",
       "      \"vega-lib\": \"https://cdn.jsdelivr.net/npm//vega-lib?noext\",\n",
       "      \"vega-lite\": \"https://cdn.jsdelivr.net/npm//vega-lite@4.8.1?noext\",\n",
       "      \"vega-embed\": \"https://cdn.jsdelivr.net/npm//vega-embed@6?noext\",\n",
       "    };\n",
       "\n",
       "    function loadScript(lib) {\n",
       "      return new Promise(function(resolve, reject) {\n",
       "        var s = document.createElement('script');\n",
       "        s.src = paths[lib];\n",
       "        s.async = true;\n",
       "        s.onload = () => resolve(paths[lib]);\n",
       "        s.onerror = () => reject(`Error loading script: ${paths[lib]}`);\n",
       "        document.getElementsByTagName(\"head\")[0].appendChild(s);\n",
       "      });\n",
       "    }\n",
       "\n",
       "    function showError(err) {\n",
       "      outputDiv.innerHTML = `<div class=\"error\" style=\"color:red;\">${err}</div>`;\n",
       "      throw err;\n",
       "    }\n",
       "\n",
       "    function displayChart(vegaEmbed) {\n",
       "      vegaEmbed(outputDiv, spec, embedOpt)\n",
       "        .catch(err => showError(`Javascript Error: ${err.message}<br>This usually means there's a typo in your chart specification. See the javascript console for the full traceback.`));\n",
       "    }\n",
       "\n",
       "    if(typeof define === \"function\" && define.amd) {\n",
       "      requirejs.config({paths});\n",
       "      require([\"vega-embed\"], displayChart, err => showError(`Error loading script: ${err.message}`));\n",
       "    } else if (typeof vegaEmbed === \"function\") {\n",
       "      displayChart(vegaEmbed);\n",
       "    } else {\n",
       "      loadScript(\"vega\")\n",
       "        .then(() => loadScript(\"vega-lite\"))\n",
       "        .then(() => loadScript(\"vega-embed\"))\n",
       "        .catch(showError)\n",
       "        .then(() => displayChart(vegaEmbed));\n",
       "    }\n",
       "  })({\"config\": {\"view\": {\"continuousWidth\": 400, \"continuousHeight\": 300}}, \"data\": {\"name\": \"data-5bef1979c3757af107b1f4d9d912061f\"}, \"mark\": \"point\", \"encoding\": {\"x\": {\"type\": \"quantitative\", \"field\": \"k\"}, \"y\": {\"type\": \"quantitative\", \"field\": \"inertia\"}}, \"$schema\": \"https://vega.github.io/schema/vega-lite/v4.8.1.json\", \"datasets\": {\"data-5bef1979c3757af107b1f4d9d912061f\": [{\"k\": 1, \"inertia\": 3639.331499820463}, {\"k\": 2, \"inertia\": 2472.43452618669}, {\"k\": 3, \"inertia\": 1484.5827253754587}, {\"k\": 4, \"inertia\": 521.970356553256}, {\"k\": 5, \"inertia\": 350.6270850736792}, {\"k\": 6, \"inertia\": 265.179511093686}, {\"k\": 7, \"inertia\": 200.06525975493722}, {\"k\": 8, \"inertia\": 155.29282104843324}, {\"k\": 9, \"inertia\": 124.62898434934739}, {\"k\": 10, \"inertia\": 100.38644650364276}]}}, {\"mode\": \"vega-lite\"});\n",
       "</script>"
      ],
      "text/plain": [
       "alt.Chart(...)"
      ]
     },
     "execution_count": 20,
     "metadata": {},
     "output_type": "execute_result"
    }
   ],
   "source": [
    "import altair as alt\n",
    "inertia = []\n",
    "k = list(range(1, 11))\n",
    "\n",
    "\n",
    "# Calculate the inertia for the range of k values\n",
    "for i in k:\n",
    "    km = KMeans(n_clusters=i, random_state=0)\n",
    "    km.fit(features_pca)\n",
    "    inertia.append(km.inertia_)\n",
    "\n",
    "# Create the Elbow Curve using hvPlot\n",
    "elbow_data = {\"k\": k, \"inertia\": inertia}\n",
    "df_elbow = pd.DataFrame(elbow_data)\n",
    "alt.Chart(df_elbow).mark_point().encode(\n",
    "    x=\"k\",\n",
    "    y=\"inertia\"\n",
    ")"
   ]
  },
  {
   "cell_type": "markdown",
   "metadata": {},
   "source": [
    "Running K-Means with `k=<your best value for k here>`"
   ]
  },
  {
   "cell_type": "code",
   "execution_count": 21,
   "metadata": {},
   "outputs": [
    {
     "data": {
      "text/html": [
       "<div>\n",
       "<style scoped>\n",
       "    .dataframe tbody tr th:only-of-type {\n",
       "        vertical-align: middle;\n",
       "    }\n",
       "\n",
       "    .dataframe tbody tr th {\n",
       "        vertical-align: top;\n",
       "    }\n",
       "\n",
       "    .dataframe thead th {\n",
       "        text-align: right;\n",
       "    }\n",
       "</style>\n",
       "<table border=\"1\" class=\"dataframe\">\n",
       "  <thead>\n",
       "    <tr style=\"text-align: right;\">\n",
       "      <th></th>\n",
       "      <th>CoinName</th>\n",
       "      <th>Algorithm</th>\n",
       "      <th>ProofType</th>\n",
       "      <th>TotalCoinsMined</th>\n",
       "      <th>TotalCoinSupply</th>\n",
       "      <th>PC 1</th>\n",
       "      <th>PC 2</th>\n",
       "      <th>PC 3</th>\n",
       "      <th>Class</th>\n",
       "    </tr>\n",
       "  </thead>\n",
       "  <tbody>\n",
       "    <tr>\n",
       "      <th>0</th>\n",
       "      <td>42 Coin</td>\n",
       "      <td>Scrypt</td>\n",
       "      <td>PoW/PoS</td>\n",
       "      <td>4.199995e+01</td>\n",
       "      <td>42</td>\n",
       "      <td>-0.333823</td>\n",
       "      <td>1.017566</td>\n",
       "      <td>-0.509029</td>\n",
       "      <td>3</td>\n",
       "    </tr>\n",
       "    <tr>\n",
       "      <th>1</th>\n",
       "      <td>404Coin</td>\n",
       "      <td>Scrypt</td>\n",
       "      <td>PoW/PoS</td>\n",
       "      <td>1.055185e+09</td>\n",
       "      <td>532000000</td>\n",
       "      <td>-0.317156</td>\n",
       "      <td>1.017748</td>\n",
       "      <td>-0.509478</td>\n",
       "      <td>3</td>\n",
       "    </tr>\n",
       "    <tr>\n",
       "      <th>2</th>\n",
       "      <td>EliteCoin</td>\n",
       "      <td>X13</td>\n",
       "      <td>PoW/PoS</td>\n",
       "      <td>2.927942e+10</td>\n",
       "      <td>314159265359</td>\n",
       "      <td>2.294032</td>\n",
       "      <td>1.615351</td>\n",
       "      <td>-0.532582</td>\n",
       "      <td>3</td>\n",
       "    </tr>\n",
       "    <tr>\n",
       "      <th>3</th>\n",
       "      <td>Bitcoin</td>\n",
       "      <td>SHA-256</td>\n",
       "      <td>PoW</td>\n",
       "      <td>1.792718e+07</td>\n",
       "      <td>21000000</td>\n",
       "      <td>-0.147575</td>\n",
       "      <td>-1.312309</td>\n",
       "      <td>0.179119</td>\n",
       "      <td>0</td>\n",
       "    </tr>\n",
       "    <tr>\n",
       "      <th>4</th>\n",
       "      <td>Ethereum</td>\n",
       "      <td>Ethash</td>\n",
       "      <td>PoW</td>\n",
       "      <td>1.076842e+08</td>\n",
       "      <td>0</td>\n",
       "      <td>-0.148726</td>\n",
       "      <td>-1.992069</td>\n",
       "      <td>0.376441</td>\n",
       "      <td>0</td>\n",
       "    </tr>\n",
       "    <tr>\n",
       "      <th>5</th>\n",
       "      <td>Litecoin</td>\n",
       "      <td>Scrypt</td>\n",
       "      <td>PoW</td>\n",
       "      <td>6.303924e+07</td>\n",
       "      <td>84000000</td>\n",
       "      <td>-0.157876</td>\n",
       "      <td>-1.119721</td>\n",
       "      <td>-0.026493</td>\n",
       "      <td>0</td>\n",
       "    </tr>\n",
       "    <tr>\n",
       "      <th>6</th>\n",
       "      <td>Dash</td>\n",
       "      <td>X11</td>\n",
       "      <td>PoW/PoS</td>\n",
       "      <td>9.031294e+06</td>\n",
       "      <td>22000000</td>\n",
       "      <td>-0.404161</td>\n",
       "      <td>1.245875</td>\n",
       "      <td>-0.379015</td>\n",
       "      <td>3</td>\n",
       "    </tr>\n",
       "    <tr>\n",
       "      <th>7</th>\n",
       "      <td>Monero</td>\n",
       "      <td>CryptoNight-V7</td>\n",
       "      <td>PoW</td>\n",
       "      <td>1.720114e+07</td>\n",
       "      <td>0</td>\n",
       "      <td>-0.150762</td>\n",
       "      <td>-2.162464</td>\n",
       "      <td>0.393696</td>\n",
       "      <td>0</td>\n",
       "    </tr>\n",
       "    <tr>\n",
       "      <th>8</th>\n",
       "      <td>Ethereum Classic</td>\n",
       "      <td>Ethash</td>\n",
       "      <td>PoW</td>\n",
       "      <td>1.133597e+08</td>\n",
       "      <td>210000000</td>\n",
       "      <td>-0.147168</td>\n",
       "      <td>-1.992167</td>\n",
       "      <td>0.376425</td>\n",
       "      <td>0</td>\n",
       "    </tr>\n",
       "    <tr>\n",
       "      <th>9</th>\n",
       "      <td>ZCash</td>\n",
       "      <td>Equihash</td>\n",
       "      <td>PoW</td>\n",
       "      <td>7.383056e+06</td>\n",
       "      <td>21000000</td>\n",
       "      <td>-0.164403</td>\n",
       "      <td>-2.192057</td>\n",
       "      <td>0.375528</td>\n",
       "      <td>0</td>\n",
       "    </tr>\n",
       "  </tbody>\n",
       "</table>\n",
       "</div>"
      ],
      "text/plain": [
       "           CoinName       Algorithm ProofType  TotalCoinsMined  \\\n",
       "0           42 Coin          Scrypt   PoW/PoS     4.199995e+01   \n",
       "1           404Coin          Scrypt   PoW/PoS     1.055185e+09   \n",
       "2         EliteCoin             X13   PoW/PoS     2.927942e+10   \n",
       "3           Bitcoin         SHA-256       PoW     1.792718e+07   \n",
       "4          Ethereum          Ethash       PoW     1.076842e+08   \n",
       "5          Litecoin          Scrypt       PoW     6.303924e+07   \n",
       "6              Dash             X11   PoW/PoS     9.031294e+06   \n",
       "7            Monero  CryptoNight-V7       PoW     1.720114e+07   \n",
       "8  Ethereum Classic          Ethash       PoW     1.133597e+08   \n",
       "9             ZCash        Equihash       PoW     7.383056e+06   \n",
       "\n",
       "  TotalCoinSupply      PC 1      PC 2      PC 3  Class  \n",
       "0              42 -0.333823  1.017566 -0.509029      3  \n",
       "1       532000000 -0.317156  1.017748 -0.509478      3  \n",
       "2    314159265359  2.294032  1.615351 -0.532582      3  \n",
       "3        21000000 -0.147575 -1.312309  0.179119      0  \n",
       "4               0 -0.148726 -1.992069  0.376441      0  \n",
       "5        84000000 -0.157876 -1.119721 -0.026493      0  \n",
       "6        22000000 -0.404161  1.245875 -0.379015      3  \n",
       "7               0 -0.150762 -2.162464  0.393696      0  \n",
       "8       210000000 -0.147168 -1.992167  0.376425      0  \n",
       "9        21000000 -0.164403 -2.192057  0.375528      0  "
      ]
     },
     "execution_count": 21,
     "metadata": {},
     "output_type": "execute_result"
    }
   ],
   "source": [
    "# Initialize the K-Means model\n",
    "model = KMeans(n_clusters=4, random_state=0,copy_x=True)\n",
    "\n",
    "# Fit the model\n",
    "model.fit(features_pca)\n",
    "\n",
    "# Predict clusters\n",
    "predictions = model.predict(features_pca)\n",
    "\n",
    "# Create a new DataFrame including predicted clusters and cryptocurrencies features\n",
    "features_pca[\"Class\"] = model.labels_\n",
    "Cols=[\"PC 1\", \"PC 2\", \"PC 3\", \"Class\"]\n",
    "features_pca.columns= Cols\n",
    "features_pca\n",
    "\n",
    "merged_features_pca = pd.merge(left=at_crypto_df_copy, right=features_pca, how='left', \n",
    "                               left_on='CoinName', right_on='CoinName')\n",
    "merged_features_pca.head(10)\n"
   ]
  },
  {
   "cell_type": "markdown",
   "metadata": {},
   "source": [
    "### Visualizing Results\n",
    "\n",
    "#### 2D-Altr Scatter with Clusters"
   ]
  },
  {
   "cell_type": "code",
   "execution_count": 22,
   "metadata": {},
   "outputs": [
    {
     "data": {
      "text/html": [
       "\n",
       "<div id=\"altair-viz-a45bfff6b2d041df883f1bc363d9d51a\"></div>\n",
       "<script type=\"text/javascript\">\n",
       "  (function(spec, embedOpt){\n",
       "    let outputDiv = document.currentScript.previousElementSibling;\n",
       "    if (outputDiv.id !== \"altair-viz-a45bfff6b2d041df883f1bc363d9d51a\") {\n",
       "      outputDiv = document.getElementById(\"altair-viz-a45bfff6b2d041df883f1bc363d9d51a\");\n",
       "    }\n",
       "    const paths = {\n",
       "      \"vega\": \"https://cdn.jsdelivr.net/npm//vega@5?noext\",\n",
       "      \"vega-lib\": \"https://cdn.jsdelivr.net/npm//vega-lib?noext\",\n",
       "      \"vega-lite\": \"https://cdn.jsdelivr.net/npm//vega-lite@4.8.1?noext\",\n",
       "      \"vega-embed\": \"https://cdn.jsdelivr.net/npm//vega-embed@6?noext\",\n",
       "    };\n",
       "\n",
       "    function loadScript(lib) {\n",
       "      return new Promise(function(resolve, reject) {\n",
       "        var s = document.createElement('script');\n",
       "        s.src = paths[lib];\n",
       "        s.async = true;\n",
       "        s.onload = () => resolve(paths[lib]);\n",
       "        s.onerror = () => reject(`Error loading script: ${paths[lib]}`);\n",
       "        document.getElementsByTagName(\"head\")[0].appendChild(s);\n",
       "      });\n",
       "    }\n",
       "\n",
       "    function showError(err) {\n",
       "      outputDiv.innerHTML = `<div class=\"error\" style=\"color:red;\">${err}</div>`;\n",
       "      throw err;\n",
       "    }\n",
       "\n",
       "    function displayChart(vegaEmbed) {\n",
       "      vegaEmbed(outputDiv, spec, embedOpt)\n",
       "        .catch(err => showError(`Javascript Error: ${err.message}<br>This usually means there's a typo in your chart specification. See the javascript console for the full traceback.`));\n",
       "    }\n",
       "\n",
       "    if(typeof define === \"function\" && define.amd) {\n",
       "      requirejs.config({paths});\n",
       "      require([\"vega-embed\"], displayChart, err => showError(`Error loading script: ${err.message}`));\n",
       "    } else if (typeof vegaEmbed === \"function\") {\n",
       "      displayChart(vegaEmbed);\n",
       "    } else {\n",
       "      loadScript(\"vega\")\n",
       "        .then(() => loadScript(\"vega-lite\"))\n",
       "        .then(() => loadScript(\"vega-embed\"))\n",
       "        .catch(showError)\n",
       "        .then(() => displayChart(vegaEmbed));\n",
       "    }\n",
       "  })({\"config\": {\"view\": {\"continuousWidth\": 400, \"continuousHeight\": 300}}, \"data\": {\"name\": \"data-89a42f1aa32424b171df909d718a4758\"}, \"mark\": \"point\", \"encoding\": {\"x\": {\"type\": \"quantitative\", \"field\": \"PC 1\"}, \"y\": {\"type\": \"quantitative\", \"field\": \"PC 2\"}}, \"$schema\": \"https://vega.github.io/schema/vega-lite/v4.8.1.json\", \"datasets\": {\"data-89a42f1aa32424b171df909d718a4758\": [{\"PC 1\": -0.3338226945647776, \"PC 2\": 1.0175664358667995, \"PC 3\": -0.5090294517118445, \"Class\": 3}, {\"PC 1\": -0.3171563046248442, \"PC 2\": 1.0177483174962803, \"PC 3\": -0.5094779584307195, \"Class\": 3}, {\"PC 1\": 2.29403200199739, \"PC 2\": 1.6153508165035533, \"PC 3\": -0.5325817557885855, \"Class\": 3}, {\"PC 1\": -0.14757468275837055, \"PC 2\": -1.3123085288112983, \"PC 3\": 0.17911917272529018, \"Class\": 0}, {\"PC 1\": -0.14872558018409182, \"PC 2\": -1.9920694375771932, \"PC 3\": 0.3764407973705963, \"Class\": 0}, {\"PC 1\": -0.1578761978107016, \"PC 2\": -1.1197210527285344, \"PC 3\": -0.026493276675022187, \"Class\": 0}, {\"PC 1\": -0.40416058320235837, \"PC 2\": 1.2458752281285328, \"PC 3\": -0.37901548220343195, \"Class\": 3}, {\"PC 1\": -0.15076160766509322, \"PC 2\": -2.1624635051267864, \"PC 3\": 0.3936963829238597, \"Class\": 0}, {\"PC 1\": -0.14716756129961137, \"PC 2\": -1.992167110831554, \"PC 3\": 0.3764250235879399, \"Class\": 0}, {\"PC 1\": -0.16440270494636772, \"PC 2\": -2.1920567161776026, \"PC 3\": 0.3755275942608476, \"Class\": 0}, {\"PC 1\": -0.31550378389771194, \"PC 2\": 1.4636544599847847, \"PC 3\": 0.11328868311436835, \"Class\": 3}, {\"PC 1\": 0.16494506868331726, \"PC 2\": -1.8334061440139406, \"PC 3\": 0.2966041373874911, \"Class\": 0}, {\"PC 1\": -0.3223515745824297, \"PC 2\": 0.8249576176318387, \"PC 3\": -0.3034406988855969, \"Class\": 3}, {\"PC 1\": -0.2670603589852314, \"PC 2\": 0.6359942119374185, \"PC 3\": -0.10056472370507323, \"Class\": 3}, {\"PC 1\": -0.15902268789542737, \"PC 2\": -1.1197146720117797, \"PC 3\": -0.02646673239923475, \"Class\": 0}, {\"PC 1\": -0.25477119436606555, \"PC 2\": 1.8203069684157318, \"PC 3\": -0.5886265762050111, \"Class\": 3}, {\"PC 1\": -0.22956822352259412, \"PC 2\": -0.8913964313312851, \"PC 3\": 0.10355015337730106, \"Class\": 0}, {\"PC 1\": -0.15863919625133904, \"PC 2\": -1.1197324957486643, \"PC 3\": -0.026472032999813908, \"Class\": 0}, {\"PC 1\": -0.33348220129259454, \"PC 2\": 1.0175659301992406, \"PC 3\": -0.509037651890562, \"Class\": 3}, {\"PC 1\": -0.3260573587717929, \"PC 2\": 1.0178285406839491, \"PC 3\": -0.5092788737262478, \"Class\": 3}, {\"PC 1\": -0.08850376619692962, \"PC 2\": -1.8283657744934794, \"PC 3\": 0.30164430617635296, \"Class\": 0}, {\"PC 1\": 2.562879896682912, \"PC 2\": -1.3025903826625223, \"PC 3\": -0.051232932120158066, \"Class\": 0}, {\"PC 1\": -0.14465895483605312, \"PC 2\": -1.3123165814564544, \"PC 3\": 0.17904980154841096, \"Class\": 0}, {\"PC 1\": -0.15589408095925816, \"PC 2\": -1.1197729279972035, \"PC 3\": -0.02652985276418365, \"Class\": 0}, {\"PC 1\": -0.1584432433704504, \"PC 2\": -1.1197516408038202, \"PC 3\": -0.026472452191545325, \"Class\": 0}, {\"PC 1\": -0.33231877952654554, \"PC 2\": 1.0176171978138364, \"PC 3\": -0.5090777573577632, \"Class\": 3}, {\"PC 1\": -0.22340911665234078, \"PC 2\": -0.49791415069001277, \"PC 3\": 0.022629303716239158, \"Class\": 0}, {\"PC 1\": -0.2034043251754213, \"PC 2\": -1.1153900245022632, \"PC 3\": 0.12409659798718854, \"Class\": 0}, {\"PC 1\": -0.1584919074923626, \"PC 2\": -1.1197161945788143, \"PC 3\": -0.026479347836747547, \"Class\": 0}, {\"PC 1\": -0.33381863059437095, \"PC 2\": 1.0175662153036622, \"PC 3\": -0.5090295006586795, \"Class\": 3}, {\"PC 1\": -0.15900494773041585, \"PC 2\": -1.119714073224773, \"PC 3\": -0.026467302212013943, \"Class\": 0}, {\"PC 1\": -0.33380290776448335, \"PC 2\": 1.017566388234076, \"PC 3\": -0.5090299240803574, \"Class\": 3}, {\"PC 1\": -0.15909141443420688, \"PC 2\": -1.119711367683498, \"PC 3\": -0.02646580757263906, \"Class\": 0}, {\"PC 1\": -0.22965759223975138, \"PC 2\": -0.8913980167493406, \"PC 3\": 0.10355269751605313, \"Class\": 0}, {\"PC 1\": 0.6938031634698413, \"PC 2\": 0.6315042882928512, \"PC 3\": -0.487308426868178, \"Class\": 3}, {\"PC 1\": -0.37911452478697344, \"PC 2\": 1.0219023058810173, \"PC 3\": -0.35844645213575255, \"Class\": 3}, {\"PC 1\": 0.18871320852585285, \"PC 2\": -1.8294233620370313, \"PC 3\": 0.2951153319199168, \"Class\": 0}, {\"PC 1\": 0.2303534358235073, \"PC 2\": -1.3145633608222442, \"PC 3\": 0.1704036894342044, \"Class\": 0}, {\"PC 1\": 0.08969332926718357, \"PC 2\": -1.1209643473370934, \"PC 3\": -0.03225584919845179, \"Class\": 0}, {\"PC 1\": -0.1588376397131117, \"PC 2\": -1.1197084260469272, \"PC 3\": -0.026472676133073778, \"Class\": 0}, {\"PC 1\": -0.1544420885386161, \"PC 2\": -1.119759546635506, \"PC 3\": -0.026568365078074356, \"Class\": 0}, {\"PC 1\": -0.1587769385996612, \"PC 2\": -1.1197142480237667, \"PC 3\": -0.02647283077047576, \"Class\": 0}, {\"PC 1\": -0.33435999737644523, \"PC 2\": 1.6891062790022864, \"PC 3\": -0.20854456819807476, \"Class\": 3}, {\"PC 1\": -0.2543003423686499, \"PC 2\": 0.5545535373340402, \"PC 3\": -0.3595336950991867, \"Class\": 3}, {\"PC 1\": -0.15914843272728904, \"PC 2\": -1.119711929728922, \"PC 3\": -0.02646428689148241, \"Class\": 0}, {\"PC 1\": -0.17345630738467263, \"PC 2\": -1.5919951002843196, \"PC 3\": 0.23761307721143657, \"Class\": 0}, {\"PC 1\": -0.1383668923735461, \"PC 2\": -1.1200189362246906, \"PC 3\": -0.026901794259312845, \"Class\": 0}, {\"PC 1\": -0.15794325885669758, \"PC 2\": -1.1197132988289686, \"PC 3\": -0.02649340732374874, \"Class\": 0}, {\"PC 1\": -0.15822080865336705, \"PC 2\": -1.1197242738809587, \"PC 3\": -0.02648412597229465, \"Class\": 0}, {\"PC 1\": -0.33188112620170734, \"PC 2\": 1.017546106378281, \"PC 3\": -0.5090722320825927, \"Class\": 3}, {\"PC 1\": -0.3286864665329436, \"PC 2\": 1.0576020036816367, \"PC 3\": -0.1767898201639308, \"Class\": 3}, {\"PC 1\": 1.5901537748842232, \"PC 2\": -1.1254864125497266, \"PC 3\": -0.06786866367089553, \"Class\": 0}, {\"PC 1\": -0.40405524525774705, \"PC 2\": 1.2458787836192913, \"PC 3\": -0.37901886565036813, \"Class\": 3}, {\"PC 1\": -0.14753603872011234, \"PC 2\": -1.3123072244520642, \"PC 3\": 0.17911793148166016, \"Class\": 0}, {\"PC 1\": -0.15550971705097288, \"PC 2\": -1.1197709885410803, \"PC 3\": -0.02653968200099253, \"Class\": 0}, {\"PC 1\": -0.1588640881416161, \"PC 2\": -1.1197086032353005, \"PC 3\": -0.026471989800414198, \"Class\": 0}, {\"PC 1\": -0.15921898099193238, \"PC 2\": -1.119707237359242, \"PC 3\": -0.02646363414137259, \"Class\": 0}, {\"PC 1\": -0.3865039485865363, \"PC 2\": 2.0882626242047433, \"PC 3\": -0.7678656112354787, \"Class\": 3}, {\"PC 1\": -0.1584780698926132, \"PC 2\": -1.1197113155564036, \"PC 3\": -0.02648079852214693, \"Class\": 0}, {\"PC 1\": -0.15753560111916368, \"PC 2\": -2.32779125553227, \"PC 3\": 0.3393288982066671, \"Class\": 0}, {\"PC 1\": -0.018367907981466387, \"PC 2\": 0.8373775808519497, \"PC 3\": -0.31450836077478783, \"Class\": 3}, {\"PC 1\": -0.15910022668558269, \"PC 2\": -1.119709418360095, \"PC 3\": -0.026466036936910946, \"Class\": 0}, {\"PC 1\": -0.28565167539989506, \"PC 2\": 0.8244810869165803, \"PC 3\": -0.30422830049634886, \"Class\": 3}, {\"PC 1\": -0.2782825474396599, \"PC 2\": 0.8285930576171235, \"PC 3\": -0.3061572815095012, \"Class\": 3}, {\"PC 1\": -0.290006796056383, \"PC 2\": 1.752921739535345, \"PC 3\": -0.5008499256976632, \"Class\": 3}, {\"PC 1\": -0.023994124573353925, \"PC 2\": -1.125874956109441, \"PC 3\": -0.028359433260991808, \"Class\": 0}, {\"PC 1\": -0.14761367632141315, \"PC 2\": -1.3123098449680988, \"PC 3\": 0.17912042519563412, \"Class\": 0}, {\"PC 1\": -0.1527627140766326, \"PC 2\": -1.119729485533008, \"PC 3\": -0.02661623460147447, \"Class\": 0}, {\"PC 1\": -0.29062920619316424, \"PC 2\": 1.7529007312131368, \"PC 3\": -0.5008299339304072, \"Class\": 3}, {\"PC 1\": -0.3529028156273694, \"PC 2\": 0.545351867887609, \"PC 3\": -0.24485118610316295, \"Class\": 3}, {\"PC 1\": -0.32812409880789145, \"PC 2\": 1.0174582589361918, \"PC 3\": -0.5091439508543221, \"Class\": 3}, {\"PC 1\": -0.3322241516967756, \"PC 2\": 1.0175502698416028, \"PC 3\": -0.5090648042849161, \"Class\": 3}, {\"PC 1\": 0.024434598384954206, \"PC 2\": 1.0296587592682334, \"PC 3\": -0.5205366492962872, \"Class\": 3}, {\"PC 1\": -0.15907968719108329, \"PC 2\": -1.1197165959193414, \"PC 3\": -0.026464901586101434, \"Class\": 0}, {\"PC 1\": -0.15717390510649873, \"PC 2\": -1.1198161261337145, \"PC 3\": -0.026488744907855882, \"Class\": 0}, {\"PC 1\": -0.15856632338285379, \"PC 2\": -1.1197208772705778, \"PC 3\": -0.026476462488778395, \"Class\": 0}, {\"PC 1\": -0.3485795039832444, \"PC 2\": 1.0569305503813906, \"PC 3\": -0.17615085728204755, \"Class\": 3}, {\"PC 1\": -0.4044268855388334, \"PC 2\": 1.2458819805270225, \"PC 3\": -0.37901051858470547, \"Class\": 3}, {\"PC 1\": -0.13476334748261212, \"PC 2\": -1.312496470197991, \"PC 3\": 0.1788491583618557, \"Class\": 0}, {\"PC 1\": -0.2409763676962199, \"PC 2\": 0.1201769780148874, \"PC 3\": 0.022711275535296466, \"Class\": 3}, {\"PC 1\": -0.14707731956128153, \"PC 2\": -1.3123103535705603, \"PC 3\": 0.17910744232074052, \"Class\": 0}, {\"PC 1\": -0.30558999730185765, \"PC 2\": 1.5653220371566898, \"PC 3\": -0.27894047115899206, \"Class\": 3}, {\"PC 1\": -0.4043385201712357, \"PC 2\": 1.2458778085525295, \"PC 3\": -0.37901172514797465, \"Class\": 3}, {\"PC 1\": -0.14736461265566586, \"PC 2\": -1.3123164644118535, \"PC 3\": 0.17911585225602428, \"Class\": 0}, {\"PC 1\": -0.14734768239326557, \"PC 2\": -1.3123430831103735, \"PC 3\": 0.17912150963526083, \"Class\": 0}, {\"PC 1\": -0.14793840425985086, \"PC 2\": -1.3123059583168166, \"PC 3\": 0.1791274692632732, \"Class\": 0}, {\"PC 1\": -0.22983150427188365, \"PC 2\": -0.8913910072895583, \"PC 3\": 0.10355534615747047, \"Class\": 0}, {\"PC 1\": -0.30905053034712726, \"PC 2\": 1.0172577268797536, \"PC 3\": -0.5095640295573578, \"Class\": 3}, {\"PC 1\": -0.33249989907960104, \"PC 2\": 1.0175395314297295, \"PC 3\": -0.509055620921719, \"Class\": 3}, {\"PC 1\": -0.1587960825336657, \"PC 2\": -1.1197084544203735, \"PC 3\": -0.026473684568794058, \"Class\": 0}, {\"PC 1\": -0.246651882092416, \"PC 2\": 0.3637620352034846, \"PC 3\": -0.34818442923388543, \"Class\": 3}, {\"PC 1\": -0.19122050810019867, \"PC 2\": -1.2318162108602844, \"PC 3\": 0.1526372258820109, \"Class\": 0}, {\"PC 1\": -0.15589883338975355, \"PC 2\": -1.119784122455421, \"PC 3\": -0.026527183613160213, \"Class\": 0}, {\"PC 1\": -0.40430297413562877, \"PC 2\": 1.245882228230349, \"PC 3\": -0.3790136012340189, \"Class\": 3}, {\"PC 1\": -0.2414440223028811, \"PC 2\": 0.12023274620713978, \"PC 3\": 0.022709977676961632, \"Class\": 3}, {\"PC 1\": -0.1471446329992047, \"PC 2\": -1.3123111859893106, \"PC 3\": 0.1791092760925205, \"Class\": 0}, {\"PC 1\": -0.29040999875292367, \"PC 2\": 1.7529081301616165, \"PC 3\": -0.5008369748570684, \"Class\": 3}, {\"PC 1\": -0.32492528911301694, \"PC 2\": 1.0171512214065164, \"PC 3\": -0.5091520468245648, \"Class\": 3}, {\"PC 1\": 3.859780413302179, \"PC 2\": -2.2869961542930053, \"PC 3\": 0.30242507964583215, \"Class\": 0}, {\"PC 1\": 0.45797985905414473, \"PC 2\": -2.2769810180667225, \"PC 3\": 0.38321951153028827, \"Class\": 0}, {\"PC 1\": 0.05789193562053263, \"PC 2\": 1.330008391799736, \"PC 3\": -0.6037690479124387, \"Class\": 3}, {\"PC 1\": -0.31885370143432484, \"PC 2\": 1.577296276484738, \"PC 3\": -0.2179906399827253, \"Class\": 3}, {\"PC 1\": -0.15766347802594038, \"PC 2\": -1.11972898475753, \"PC 3\": -0.026496662669216308, \"Class\": 0}, {\"PC 1\": -0.32156314266850716, \"PC 2\": 0.824951315326619, \"PC 3\": -0.30345851657081124, \"Class\": 3}, {\"PC 1\": -0.37853589037081653, \"PC 2\": 1.021924970655796, \"PC 3\": -0.3584657525974798, \"Class\": 3}, {\"PC 1\": -0.14226076896443596, \"PC 2\": -1.1203359685740886, \"PC 3\": -0.026734393610845137, \"Class\": 0}, {\"PC 1\": -0.2782627624027127, \"PC 2\": 0.8286053027041836, \"PC 3\": -0.30616055739973336, \"Class\": 3}, {\"PC 1\": -0.15638199535874472, \"PC 2\": -1.1197295683157595, \"PC 3\": -0.02652782586625034, \"Class\": 0}, {\"PC 1\": -0.29070464557024595, \"PC 2\": 1.7528895985314044, \"PC 3\": -0.5008255525564937, \"Class\": 3}, {\"PC 1\": -0.15922119412592256, \"PC 2\": -1.119708226507189, \"PC 3\": -0.026463354500265823, \"Class\": 0}, {\"PC 1\": -0.27291624580070273, \"PC 2\": 0.828427999533578, \"PC 3\": -0.3062506926675254, \"Class\": 3}, {\"PC 1\": -0.15624697242620111, \"PC 2\": -1.1197204414861854, \"PC 3\": -0.02653320491707327, \"Class\": 0}, {\"PC 1\": -0.3338047573041347, \"PC 2\": 1.017567041336459, \"PC 3\": -0.5090300278621768, \"Class\": 3}, {\"PC 1\": -0.29065681085224904, \"PC 2\": 1.7528926441657746, \"PC 3\": -0.5008274153818644, \"Class\": 3}, {\"PC 1\": -0.14246781298129785, \"PC 2\": -1.1198563964119983, \"PC 3\": -0.026838711820929905, \"Class\": 0}, {\"PC 1\": -0.12403122459233662, \"PC 2\": -2.268391038448435, \"PC 3\": 0.3745353901455473, \"Class\": 0}, {\"PC 1\": -0.3490245394230449, \"PC 2\": 1.0569012184148954, \"PC 3\": -0.17613329899895688, \"Class\": 3}, {\"PC 1\": -0.12251743324293277, \"PC 2\": -1.8280827835051425, \"PC 3\": 0.30241044483989776, \"Class\": 0}, {\"PC 1\": -0.18403584654329497, \"PC 2\": -1.5528054805798985, \"PC 3\": 0.12823783114970597, \"Class\": 0}, {\"PC 1\": -0.15909422926981795, \"PC 2\": -1.1197044729194727, \"PC 3\": -0.02646731129764824, \"Class\": 0}, {\"PC 1\": -0.33353910015056065, \"PC 2\": 1.017561697505937, \"PC 3\": -0.5090352969722747, \"Class\": 3}, {\"PC 1\": -0.03201177946349911, \"PC 2\": -1.1225679259529147, \"PC 3\": -0.028917851340588163, \"Class\": 0}, {\"PC 1\": -0.09580204836405397, \"PC 2\": -2.028133401454607, \"PC 3\": 0.42876941933213136, \"Class\": 0}, {\"PC 1\": -0.1592300849732461, \"PC 2\": -1.119707089443362, \"PC 3\": -0.026463396695397094, \"Class\": 0}, {\"PC 1\": -0.1476414635467024, \"PC 2\": -1.3123107828753524, \"PC 3\": 0.17912131771924153, \"Class\": 0}, {\"PC 1\": 0.4929340944218137, \"PC 2\": -1.1635228130011996, \"PC 3\": -0.03239758401678574, \"Class\": 0}, {\"PC 1\": -0.40440840846101683, \"PC 2\": 1.245882604902711, \"PC 3\": -0.37901111223025813, \"Class\": 3}, {\"PC 1\": -0.32957150639312327, \"PC 2\": 2.426936499040773, \"PC 3\": -0.9776749913704941, \"Class\": 3}, {\"PC 1\": -0.22921855531789023, \"PC 2\": -0.8913939308099555, \"PC 3\": 0.10354104351623152, \"Class\": 0}, {\"PC 1\": -0.1450876932940922, \"PC 2\": -2.1947701847009107, \"PC 3\": 0.3818197966527385, \"Class\": 0}, {\"PC 1\": -0.14738131330943657, \"PC 2\": -1.3123254427475526, \"PC 3\": 0.17911830778118357, \"Class\": 0}, {\"PC 1\": -0.42476668499293607, \"PC 2\": 1.7796344656851566, \"PC 3\": -0.6196410206863288, \"Class\": 3}, {\"PC 1\": -0.22950352493153184, \"PC 2\": -0.8913949630782394, \"PC 3\": 0.10354823845226771, \"Class\": 0}, {\"PC 1\": -0.40475563780132384, \"PC 2\": 0.7497504640698165, \"PC 3\": 0.13717105254541517, \"Class\": 3}, {\"PC 1\": -0.1573537137044882, \"PC 2\": -1.1197937457639864, \"PC 3\": -0.02648945785953409, \"Class\": 0}, {\"PC 1\": -0.15654576850725982, \"PC 2\": -1.1197949245251813, \"PC 3\": -0.026508920608659434, \"Class\": 0}, {\"PC 1\": -0.2766640186355438, \"PC 2\": 0.828587712369465, \"PC 3\": -0.3061955900410258, \"Class\": 3}, {\"PC 1\": -0.14979345185623993, \"PC 2\": -1.9921175786807948, \"PC 3\": 0.3764778562652851, \"Class\": 0}, {\"PC 1\": -0.29017838771696214, \"PC 2\": 1.7528801712594155, \"PC 3\": -0.5008362547415584, \"Class\": 3}, {\"PC 1\": 0.3719242602315803, \"PC 2\": -2.168018467378241, \"PC 3\": 0.3572548587435264, \"Class\": 0}, {\"PC 1\": -0.3149081994493899, \"PC 2\": 0.8245090666575589, \"PC 3\": -0.30352018080156207, \"Class\": 3}, {\"PC 1\": -0.25721266729090014, \"PC 2\": 1.8204561795038703, \"PC 3\": -0.5886009808480696, \"Class\": 3}, {\"PC 1\": -0.2295389220862356, \"PC 2\": -0.8913925801936704, \"PC 3\": 0.10354855946176755, \"Class\": 0}, {\"PC 1\": -0.14753716146359877, \"PC 2\": -1.3123072623482288, \"PC 3\": 0.17911796754409742, \"Class\": 0}, {\"PC 1\": -0.06872959907391046, \"PC 2\": 1.0103843386828995, \"PC 3\": -0.3729260783381238, \"Class\": 3}, {\"PC 1\": -0.1551870355115682, \"PC 2\": -1.1197204417548035, \"PC 3\": -0.02655909056711816, \"Class\": 0}, {\"PC 1\": -0.14371460329031235, \"PC 2\": -2.1296476232736294, \"PC 3\": 0.4049973596918762, \"Class\": 0}, {\"PC 1\": -0.32232247913112094, \"PC 2\": 0.8249585996958824, \"PC 3\": -0.30344163342932684, \"Class\": 3}, {\"PC 1\": -0.08183478938802798, \"PC 2\": 1.237773163430081, \"PC 3\": -0.3850394877641671, \"Class\": 3}, {\"PC 1\": -0.15779313533835196, \"PC 2\": -1.119718249105851, \"PC 3\": -0.026495944635453905, \"Class\": 0}, {\"PC 1\": -0.32238616704696615, \"PC 2\": 0.8249646786237547, \"PC 3\": -0.303441464450502, \"Class\": 3}, {\"PC 1\": 0.27104109920202646, \"PC 2\": -1.3136381453353145, \"PC 3\": 0.16919900672981908, \"Class\": 0}, {\"PC 1\": -0.2516170703279572, \"PC 2\": 1.4732796521803997, \"PC 3\": -0.4828789435108267, \"Class\": 3}, {\"PC 1\": -0.33341499218041176, \"PC 2\": 1.017550144879699, \"PC 3\": -0.5090356931553497, \"Class\": 3}, {\"PC 1\": -0.27653330682519256, \"PC 2\": 0.8285055074855718, \"PC 3\": -0.30618003404810357, \"Class\": 3}, {\"PC 1\": -0.22869951372199965, \"PC 2\": -0.8914129035465772, \"PC 3\": 0.10353269457245064, \"Class\": 0}, {\"PC 1\": -0.14868366583602707, \"PC 2\": -2.1496790098692764, \"PC 3\": 0.38519004974240184, \"Class\": 0}, {\"PC 1\": -0.15804085016434916, \"PC 2\": -1.1197869661715103, \"PC 3\": -0.02647422285891218, \"Class\": 0}, {\"PC 1\": -0.1391835074072891, \"PC 2\": -2.1444403789313973, \"PC 3\": 0.3509050217504149, \"Class\": 0}, {\"PC 1\": -0.40157760075470395, \"PC 2\": 1.2457033900602468, \"PC 3\": -0.37903937302741475, \"Class\": 3}, {\"PC 1\": 0.8750171584788209, \"PC 2\": 0.7966946758700736, \"PC 3\": -0.32704812192485383, \"Class\": 3}, {\"PC 1\": -0.32218623485389286, \"PC 2\": 0.8249503188295387, \"PC 3\": -0.30344307218526095, \"Class\": 3}, {\"PC 1\": -0.03711290977210991, \"PC 2\": 0.6339181652641663, \"PC 3\": -0.47000856732219365, \"Class\": 3}, {\"PC 1\": -0.3340432158980484, \"PC 2\": 1.6891026607803707, \"PC 3\": -0.20855147941767924, \"Class\": 3}, {\"PC 1\": -0.1590199696566998, \"PC 2\": -1.119713864732345, \"PC 3\": -0.026466982897754846, \"Class\": 0}, {\"PC 1\": -0.22950217428843384, \"PC 2\": -0.8913977796106574, \"PC 3\": 0.10354884782529145, \"Class\": 0}, {\"PC 1\": -0.4022508845122907, \"PC 2\": 1.245901763432531, \"PC 3\": -0.3790681725717525, \"Class\": 3}, {\"PC 1\": -0.3209298040163833, \"PC 2\": 0.8248619821118894, \"PC 3\": -0.30345360996071724, \"Class\": 3}, {\"PC 1\": -0.3185979975794014, \"PC 2\": 0.824724401091413, \"PC 3\": -0.30347917948537834, \"Class\": 3}, {\"PC 1\": -0.37301515108761724, \"PC 2\": 1.4691176830268298, \"PC 3\": -0.4789649591942777, \"Class\": 3}, {\"PC 1\": -0.4031435200634394, \"PC 2\": 1.2458258402081985, \"PC 3\": -0.37902905709503537, \"Class\": 3}, {\"PC 1\": -0.1592301434812665, \"PC 2\": -1.1197070892501375, \"PC 3\": -0.026463395310586085, \"Class\": 0}, {\"PC 1\": -0.3410294101251753, \"PC 2\": 1.473744335388235, \"PC 3\": -0.21666150727697045, \"Class\": 3}, {\"PC 1\": -0.30970840434912045, \"PC 2\": 1.0169493094473112, \"PC 3\": -0.5094776231354551, \"Class\": 3}, {\"PC 1\": -0.3334531076948562, \"PC 2\": 1.0175471887902463, \"PC 3\": -0.509034088113993, \"Class\": 3}, {\"PC 1\": -0.3318917376042309, \"PC 2\": 1.0175600588142852, \"PC 3\": -0.5090751550230304, \"Class\": 3}, {\"PC 1\": -0.23410783344882768, \"PC 2\": 1.5638289436528026, \"PC 3\": -0.2979592832323978, \"Class\": 3}, {\"PC 1\": -0.2296521978511366, \"PC 2\": -0.8914028433831727, \"PC 3\": 0.10355366657095622, \"Class\": 0}, {\"PC 1\": -0.3365127954836864, \"PC 2\": 1.0568677368203747, \"PC 3\": -0.17643122395678562, \"Class\": 3}, {\"PC 1\": -0.3275439943137156, \"PC 2\": -2.066700080344943, \"PC 3\": 0.47635734190948587, \"Class\": 0}, {\"PC 1\": -0.40388226233966934, \"PC 2\": 1.2458645874966554, \"PC 3\": -0.37901985255976256, \"Class\": 3}, {\"PC 1\": -0.3326571846215265, \"PC 2\": 1.0175413778446114, \"PC 3\": -0.5090522008107705, \"Class\": 3}, {\"PC 1\": 0.30285428822762284, \"PC 2\": -2.275068852590868, \"PC 3\": 0.38657187625679934, \"Class\": 0}, {\"PC 1\": -0.3223671376911397, \"PC 2\": 0.8249578078576383, \"PC 3\": -0.3034403621885991, \"Class\": 3}, {\"PC 1\": -0.14779731041674782, \"PC 2\": -1.3123079834705071, \"PC 3\": 0.1791244853493934, \"Class\": 0}, {\"PC 1\": -0.4043976036451558, \"PC 2\": 1.2458808230089302, \"PC 3\": -0.3790109697134547, \"Class\": 3}, {\"PC 1\": -0.3336422758035365, \"PC 2\": 1.0175574994691832, \"PC 3\": -0.5090318197890874, \"Class\": 3}, {\"PC 1\": -0.10258581501610374, \"PC 2\": -1.8282686642568342, \"PC 3\": 0.30196606942015475, \"Class\": 0}, {\"PC 1\": -0.3337989885384125, \"PC 2\": 1.0175672360506545, \"PC 3\": -0.5090302131545019, \"Class\": 3}, {\"PC 1\": -0.15639634234847144, \"PC 2\": -1.1197541044054529, \"PC 3\": -0.02652187961049731, \"Class\": 0}, {\"PC 1\": -0.2765223594645943, \"PC 2\": 0.8286640468401394, \"PC 3\": -0.3062164590125344, \"Class\": 3}, {\"PC 1\": -0.14775592777601912, \"PC 2\": -1.3123072322962261, \"PC 3\": 0.17912330338706767, \"Class\": 0}, {\"PC 1\": -0.21226050340171626, \"PC 2\": 0.2989348861895346, \"PC 3\": -0.3354750340419822, \"Class\": 3}, {\"PC 1\": -0.15889349644203826, \"PC 2\": -1.1197167511612964, \"PC 3\": -0.026469413319045763, \"Class\": 0}, {\"PC 1\": 0.012313968829201884, \"PC 2\": 1.813917528274106, \"PC 3\": -0.5518914333948794, \"Class\": 3}, {\"PC 1\": -0.33300008555808497, \"PC 2\": 1.6890992311154707, \"PC 3\": -0.2085761724862179, \"Class\": 3}, {\"PC 1\": -0.33341302075532053, \"PC 2\": 1.0175802636912246, \"PC 3\": -0.5090426104109601, \"Class\": 3}, {\"PC 1\": -0.39055905724459833, \"PC 2\": 1.2452767692207534, \"PC 3\": -0.3792111690179948, \"Class\": 3}, {\"PC 1\": -0.1435012307810187, \"PC 2\": -2.196937553688284, \"PC 3\": 0.37877795951294246, \"Class\": 0}, {\"PC 1\": -0.3323284274774671, \"PC 2\": 1.6891462298146884, \"PC 3\": -0.20860329453315893, \"Class\": 3}, {\"PC 1\": -0.23553843254762405, \"PC 2\": 1.5639219735136916, \"PC 3\": -0.2979455622823465, \"Class\": 3}, {\"PC 1\": -0.43851806531809523, \"PC 2\": 1.817829391468485, \"PC 3\": -0.6208584798176835, \"Class\": 3}, {\"PC 1\": -0.33207790372698937, \"PC 2\": 1.6889679323238458, \"PC 3\": -0.2085687490188472, \"Class\": 3}, {\"PC 1\": -0.30228406106461786, \"PC 2\": 1.8122386787093383, \"PC 3\": -0.5438254501692906, \"Class\": 3}, {\"PC 1\": -0.14953554085641768, \"PC 2\": -1.9921155271826958, \"PC 3\": 0.37647108970020404, \"Class\": 0}, {\"PC 1\": -0.16442432958411624, \"PC 2\": -2.1920574460779227, \"PC 3\": 0.37552828884260203, \"Class\": 0}, {\"PC 1\": 3.7194192808925757, \"PC 2\": 1.8638422388202591, \"PC 3\": -0.4065263894769275, \"Class\": 3}, {\"PC 1\": -0.40399007888072974, \"PC 2\": 1.2458752589499924, \"PC 3\": -0.3790196532783875, \"Class\": 3}, {\"PC 1\": -0.0859545523369727, \"PC 2\": -1.124388666147104, \"PC 3\": -0.027185213491886788, \"Class\": 0}, {\"PC 1\": -0.21623195681885843, \"PC 2\": -0.8912897444133345, \"PC 3\": 0.10320012415317512, \"Class\": 0}, {\"PC 1\": 0.8418736358222894, \"PC 2\": 1.7905181042999263, \"PC 3\": -0.537067130341431, \"Class\": 3}, {\"PC 1\": -0.40435250089880515, \"PC 2\": 1.2458817347890205, \"PC 3\": -0.37901227915686064, \"Class\": 3}, {\"PC 1\": -0.33346392856658236, \"PC 2\": 1.6891007476638142, \"PC 3\": -0.20856519041679353, \"Class\": 3}, {\"PC 1\": -0.33334064355053467, \"PC 2\": 1.0175551301170809, \"PC 3\": -0.5090386458613821, \"Class\": 3}, {\"PC 1\": -0.3334950276923168, \"PC 2\": 1.0175474434265535, \"PC 3\": -0.5090331224206658, \"Class\": 3}, {\"PC 1\": -0.22748007645931007, \"PC 2\": -0.8914747800126361, \"PC 3\": 0.10351702553921645, \"Class\": 0}, {\"PC 1\": -0.3340432158980484, \"PC 2\": 1.6891026607803707, \"PC 3\": -0.20855147941767924, \"Class\": 3}, {\"PC 1\": -0.40392740202612376, \"PC 2\": 1.245855908586334, \"PC 3\": -0.3790167707874462, \"Class\": 3}, {\"PC 1\": -0.3222297639094997, \"PC 2\": 0.8249631601900299, \"PC 3\": -0.3034449378131325, \"Class\": 3}, {\"PC 1\": -0.33334136650732876, \"PC 2\": 1.0175590697524624, \"PC 3\": -0.509039526706541, \"Class\": 3}, {\"PC 1\": -0.39357532610174656, \"PC 2\": 0.7025858535933515, \"PC 3\": -0.055924548658225354, \"Class\": 3}, {\"PC 1\": -0.3334887929286419, \"PC 2\": 1.017557671292881, \"PC 3\": -0.5090356073253389, \"Class\": 3}, {\"PC 1\": -0.3290768773367316, \"PC 2\": 1.0172610555413961, \"PC 3\": -0.5090757065545356, \"Class\": 3}, {\"PC 1\": -0.4043815068503996, \"PC 2\": 1.2458799352665024, \"PC 3\": -0.379011160363514, \"Class\": 3}, {\"PC 1\": 0.3028486235655518, \"PC 2\": -2.2750769146237633, \"PC 3\": 0.38657385328316624, \"Class\": 0}, {\"PC 1\": -0.332699516019888, \"PC 2\": 1.017501310392832, \"PC 3\": -0.5090420289290849, \"Class\": 3}, {\"PC 1\": 0.36511960025127677, \"PC 2\": 0.8270560986821225, \"PC 3\": -0.32151987772354945, \"Class\": 3}, {\"PC 1\": -0.33368809785829284, \"PC 2\": 1.0175616770708995, \"PC 3\": -0.5090316534992587, \"Class\": 3}, {\"PC 1\": -0.33375866889040023, \"PC 2\": 1.017566224419779, \"PC 3\": -0.5090309671186519, \"Class\": 3}, {\"PC 1\": -0.3474501018726372, \"PC 2\": 1.4503947548946186, \"PC 3\": -0.256944749246394, \"Class\": 3}, {\"PC 1\": -0.35776602698521354, \"PC 2\": 0.5844403022637649, \"PC 3\": -0.354342958912583, \"Class\": 3}, {\"PC 1\": -0.1592118800004103, \"PC 2\": -1.1197079738660627, \"PC 3\": -0.02646363958836691, \"Class\": 0}, {\"PC 1\": 0.30297937570610256, \"PC 2\": -2.2750753634439733, \"PC 3\": 0.386570306289726, \"Class\": 0}, {\"PC 1\": -0.14562819265222793, \"PC 2\": -2.1947485094854886, \"PC 3\": 0.3818280532901456, \"Class\": 0}, {\"PC 1\": -0.32998539169850255, \"PC 2\": 1.0173381919613562, \"PC 3\": -0.5090711111536599, \"Class\": 3}, {\"PC 1\": -0.32234354376739877, \"PC 2\": 0.8249586042276246, \"PC 3\": -0.30344112002367307, \"Class\": 3}, {\"PC 1\": -0.40429143959146197, \"PC 2\": 1.2458798599044039, \"PC 3\": -0.379013342792718, \"Class\": 3}, {\"PC 1\": -0.333536448181324, \"PC 2\": 1.017561787018335, \"PC 3\": -0.5090353821533289, \"Class\": 3}, {\"PC 1\": 0.4856019562854924, \"PC 2\": -0.9387958734914154, \"PC 3\": 0.09689456581773417, \"Class\": 0}, {\"PC 1\": -0.33366344690409533, \"PC 2\": 1.0175561170499265, \"PC 3\": -0.5090309874654959, \"Class\": 3}, {\"PC 1\": -0.14952632608283578, \"PC 2\": -2.1625541835360798, \"PC 3\": 0.39368689571694765, \"Class\": 0}, {\"PC 1\": -0.27816937270720316, \"PC 2\": 0.8285691007408652, \"PC 3\": -0.3061545816805842, \"Class\": 3}, {\"PC 1\": -0.2770146932180985, \"PC 2\": 0.3160424804667281, \"PC 3\": -0.44644713226968835, \"Class\": 3}, {\"PC 1\": -0.15918015757379075, \"PC 2\": -1.1197073651611316, \"PC 3\": -0.02646455313699409, \"Class\": 0}, {\"PC 1\": -0.23530624014121018, \"PC 2\": 1.5639212066904133, \"PC 3\": -0.2979510579832447, \"Class\": 3}, {\"PC 1\": -0.22238606611190218, \"PC 2\": -0.8918552302951731, \"PC 3\": 0.10347938813291994, \"Class\": 0}, {\"PC 1\": -0.1644366990515008, \"PC 2\": -2.192055001465879, \"PC 3\": 0.3755280333933938, \"Class\": 0}, {\"PC 1\": -0.3145131176602513, \"PC 2\": 1.0175026653175905, \"PC 3\": -0.5094864849964502, \"Class\": 3}, {\"PC 1\": -0.15731300272316684, \"PC 2\": -1.119713491586307, \"PC 3\": -0.02650875543699042, \"Class\": 0}, {\"PC 1\": -0.14534650056959766, \"PC 2\": -2.1947468723147883, \"PC 3\": 0.38182080043942973, \"Class\": 0}, {\"PC 1\": -0.277910370971595, \"PC 2\": 0.828592563888977, \"PC 3\": -0.30616625817618015, \"Class\": 3}, {\"PC 1\": -0.1473313754792484, \"PC 2\": -2.2034843593482836, \"PC 3\": 0.40760477096474423, \"Class\": 0}, {\"PC 1\": -0.4035571628378303, \"PC 2\": 1.2458397841275959, \"PC 3\": -0.3790221352868163, \"Class\": 3}, {\"PC 1\": -0.438811487927856, \"PC 2\": 1.9867753414239293, \"PC 3\": -0.45931253377461123, \"Class\": 3}, {\"PC 1\": -0.40229514967030916, \"PC 2\": 1.2458752257845798, \"PC 3\": -0.3790610391668529, \"Class\": 3}, {\"PC 1\": -0.13010331012358056, \"PC 2\": -1.1215856457947084, \"PC 3\": -0.026746292047668364, \"Class\": 0}, {\"PC 1\": -0.3322894171647599, \"PC 2\": 1.6890972518196747, \"PC 3\": -0.208593076971887, \"Class\": 3}, {\"PC 1\": -0.40345501507114334, \"PC 2\": 1.2458432319396868, \"PC 3\": -0.3790254162654773, \"Class\": 3}, {\"PC 1\": -0.1996265593441463, \"PC 2\": -0.6681661665348554, \"PC 3\": 0.003632854890754937, \"Class\": 0}, {\"PC 1\": -0.3266882058246627, \"PC 2\": 1.6890790142816916, \"PC 3\": -0.20872571001362258, \"Class\": 3}, {\"PC 1\": -0.3993956381643761, \"PC 2\": 1.2456940367325426, \"PC 3\": -0.3790905275915692, \"Class\": 3}, {\"PC 1\": -0.33360671341223047, \"PC 2\": 1.017558548034753, \"PC 3\": -0.5090329274348204, \"Class\": 3}, {\"PC 1\": -0.3336059206576063, \"PC 2\": 1.0175532885412686, \"PC 3\": -0.5090317472780674, \"Class\": 3}, {\"PC 1\": -0.3267277257914365, \"PC 2\": 1.0170903834344753, \"PC 3\": -0.5090941526926441, \"Class\": 3}, {\"PC 1\": 0.2655975963848936, \"PC 2\": 0.600317291940977, \"PC 3\": -0.10543653090856084, \"Class\": 3}, {\"PC 1\": -0.4039335060169614, \"PC 2\": 1.2458700131618223, \"PC 3\": -0.37901983850561144, \"Class\": 3}, {\"PC 1\": -0.15874245921685703, \"PC 2\": -1.1197156031875284, \"PC 3\": -0.02647336375549895, \"Class\": 0}, {\"PC 1\": -0.26081049050594185, \"PC 2\": 0.8277633119423119, \"PC 3\": -0.3063947452840678, \"Class\": 3}, {\"PC 1\": -0.11411666245937828, \"PC 2\": -1.3129530136251621, \"PC 3\": 0.1784490488745224, \"Class\": 0}, {\"PC 1\": -0.3340775449304317, \"PC 2\": 1.6890943467640172, \"PC 3\": -0.20854874488276687, \"Class\": 3}, {\"PC 1\": -0.33281734571500093, \"PC 2\": 1.0175252389447331, \"PC 3\": -0.5090446086149492, \"Class\": 3}, {\"PC 1\": 0.8773153172851967, \"PC 2\": 1.794371205345542, \"PC 3\": -0.6103592264209133, \"Class\": 3}, {\"PC 1\": -0.26575079239382576, \"PC 2\": 0.6359041918160127, \"PC 3\": -0.10057617522951057, \"Class\": 3}, {\"PC 1\": -0.15856455011680554, \"PC 2\": -1.1197357004459891, \"PC 3\": -0.026473125116939198, \"Class\": 0}, {\"PC 1\": -0.33980752432596745, \"PC 2\": 1.4737379951608904, \"PC 3\": -0.2166899020963654, \"Class\": 3}, {\"PC 1\": -0.149383818047116, \"PC 2\": -2.1624921310181167, \"PC 3\": 0.39366926325786294, \"Class\": 0}, {\"PC 1\": 0.5896354099834141, \"PC 2\": 1.891619393919447, \"PC 3\": -0.629697369300093, \"Class\": 3}, {\"PC 1\": -0.16968358564860556, \"PC 2\": -2.282288741657723, \"PC 3\": 0.44232834007556554, \"Class\": 0}, {\"PC 1\": -0.028520100443836734, \"PC 2\": -2.181778220817319, \"PC 3\": 0.37017263209923806, \"Class\": 0}, {\"PC 1\": -0.16068483870041259, \"PC 2\": -2.127026331366414, \"PC 3\": 0.4270246252996756, \"Class\": 0}, {\"PC 1\": 0.3389785109096278, \"PC 2\": -2.27527345030982, \"PC 3\": 0.3857363148144069, \"Class\": 0}, {\"PC 1\": -0.3745511064234634, \"PC 2\": 1.4691230820662575, \"PC 3\": -0.47892867953482826, \"Class\": 3}, {\"PC 1\": -0.22870794902349684, \"PC 2\": -0.8914246367485165, \"PC 3\": 0.1035355765360242, \"Class\": 0}, {\"PC 1\": -0.3730531118140614, \"PC 2\": 1.469094935824649, \"PC 3\": -0.47895884423172513, \"Class\": 3}, {\"PC 1\": -0.4393598067186639, \"PC 2\": 2.000242341920064, \"PC 3\": -0.5581741652334146, \"Class\": 3}, {\"PC 1\": -0.15888379563889254, \"PC 2\": -1.1197087509545673, \"PC 3\": -0.026471474815277743, \"Class\": 0}, {\"PC 1\": -0.29034185071307395, \"PC 2\": 1.7528889644678654, \"PC 3\": -0.5008342681001888, \"Class\": 3}, {\"PC 1\": -0.1586472284664505, \"PC 2\": -1.1197406376940064, \"PC 3\": -0.026469979927819496, \"Class\": 0}, {\"PC 1\": -0.2291026705101838, \"PC 2\": -0.8914093386452351, \"PC 3\": 0.10354172740499616, \"Class\": 0}, {\"PC 1\": -0.22968022547673145, \"PC 2\": -0.8913994246702994, \"PC 3\": 0.10355357136394557, \"Class\": 0}, {\"PC 1\": 0.13115581344309238, \"PC 2\": 0.9974844290292878, \"PC 3\": -0.5158050822036794, \"Class\": 3}, {\"PC 1\": 0.30324366969307215, \"PC 2\": -2.2750871930577743, \"PC 3\": 0.38656654966449155, \"Class\": 0}, {\"PC 1\": -0.2904126195529161, \"PC 2\": 1.752894519476474, \"PC 3\": -0.5008338067027537, \"Class\": 3}, {\"PC 1\": -0.15167070218545903, \"PC 2\": -2.1170906068735516, \"PC 3\": 0.3341488853876313, \"Class\": 0}, {\"PC 1\": 3.251180214129868, \"PC 2\": -1.1477004920058884, \"PC 3\": -0.10336784439242289, \"Class\": 0}, {\"PC 1\": -0.1250890683291829, \"PC 2\": -1.1076069466329204, \"PC 3\": 0.1470491768091017, \"Class\": 0}, {\"PC 1\": -0.34844871146213485, \"PC 2\": 1.5614365530077265, \"PC 3\": -0.1608946587237379, \"Class\": 3}, {\"PC 1\": -0.22055177302121481, \"PC 2\": -0.8918648700908626, \"PC 3\": 0.10343678966489275, \"Class\": 0}, {\"PC 1\": -0.43886453227745187, \"PC 2\": 2.000259059008086, \"PC 3\": -0.5581900734115937, \"Class\": 3}, {\"PC 1\": -0.14757384668223134, \"PC 2\": -1.3123085005910653, \"PC 3\": 0.17911914587058872, \"Class\": 0}, {\"PC 1\": -0.40420590588666083, \"PC 2\": 1.2458826372690182, \"PC 3\": -0.37901606511682256, \"Class\": 3}, {\"PC 1\": -0.2782435095860167, \"PC 2\": 0.8285934981060916, \"PC 3\": -0.30615833535049297, \"Class\": 3}, {\"PC 1\": 4.397658428174796, \"PC 2\": 2.535522514902204, \"PC 3\": 10.159358120590909, \"Class\": 1}, {\"PC 1\": -0.08480309711930153, \"PC 2\": -1.124707565802126, \"PC 3\": -0.027140603742109134, \"Class\": 0}, {\"PC 1\": -0.3339438511053298, \"PC 2\": 1.6890762486264321, \"PC 3\": -0.2085478823552736, \"Class\": 3}, {\"PC 1\": 1.5884022063352805, \"PC 2\": -1.0607184965630936, \"PC 3\": -0.08259731687438196, \"Class\": 0}, {\"PC 1\": -0.15898167928182672, \"PC 2\": -1.1197125723103787, \"PC 3\": -0.026468212781745225, \"Class\": 0}, {\"PC 1\": -0.15843328529884956, \"PC 2\": -1.1197398562035454, \"PC 3\": -0.026475383066381347, \"Class\": 0}, {\"PC 1\": -0.15813419439936566, \"PC 2\": -1.1197412094178596, \"PC 3\": -0.026482378821488198, \"Class\": 0}, {\"PC 1\": -0.1581211207365986, \"PC 2\": -1.1197407681401497, \"PC 3\": -0.02648279874656308, \"Class\": 0}, {\"PC 1\": -0.33324185593608757, \"PC 2\": 1.017551515283752, \"PC 3\": -0.5090402340216565, \"Class\": 3}, {\"PC 1\": -0.33374159514937907, \"PC 2\": 1.0175661680331558, \"PC 3\": -0.5090313712325268, \"Class\": 3}, {\"PC 1\": 0.30342725922858915, \"PC 2\": -2.275105960380944, \"PC 3\": 0.3865663462613536, \"Class\": 0}, {\"PC 1\": -0.3735783160520896, \"PC 2\": 1.4642051853446432, \"PC 3\": 0.11458137328340946, \"Class\": 3}, {\"PC 1\": 0.6714611589275059, \"PC 2\": 1.3531850421790472, \"PC 3\": -0.2561771725197872, \"Class\": 3}, {\"PC 1\": -0.40414675604147327, \"PC 2\": 1.2458721171880656, \"PC 3\": -0.37901511038633384, \"Class\": 3}, {\"PC 1\": 0.04791316811961786, \"PC 2\": -2.1999014883417614, \"PC 3\": 0.3721315639660355, \"Class\": 0}, {\"PC 1\": -0.3479013827095786, \"PC 2\": 0.5452371676167937, \"PC 3\": -0.24494717142032663, \"Class\": 3}, {\"PC 1\": -0.18405547361302507, \"PC 2\": -0.8911338750400316, \"PC 3\": 0.10237876347141021, \"Class\": 0}, {\"PC 1\": -0.3336972233927152, \"PC 2\": 1.017559413272691, \"PC 3\": -0.509030914338181, \"Class\": 3}, {\"PC 1\": -0.17814594001155595, \"PC 2\": -1.5919322914637015, \"PC 3\": 0.23771328249376658, \"Class\": 0}, {\"PC 1\": -0.31133085165807173, \"PC 2\": 0.7165022951855742, \"PC 3\": -0.12703501050827282, \"Class\": 3}, {\"PC 1\": -0.1642827059861587, \"PC 2\": -2.1920526658309405, \"PC 3\": 0.3755237399031793, \"Class\": 0}, {\"PC 1\": 0.4356083526773812, \"PC 2\": 1.0256489261733805, \"PC 3\": -0.5296637973851301, \"Class\": 3}, {\"PC 1\": -0.3206894674689277, \"PC 2\": 0.8249579076766965, \"PC 3\": -0.30348135690854244, \"Class\": 3}, {\"PC 1\": -0.35931585592302007, \"PC 2\": 1.4687858392654076, \"PC 3\": -0.47922383986178924, \"Class\": 3}, {\"PC 1\": -0.39642125373229237, \"PC 2\": 1.7546954386605913, \"PC 3\": -0.48104199629282374, \"Class\": 3}, {\"PC 1\": -0.14744263297384794, \"PC 2\": -2.1497274973498937, \"PC 3\": 0.3851707997159216, \"Class\": 0}, {\"PC 1\": -0.3336475586001669, \"PC 2\": 1.0175573211579905, \"PC 3\": -0.5090316501060533, \"Class\": 3}, {\"PC 1\": -0.4011195994110479, \"PC 2\": 1.6392873231773952, \"PC 3\": -0.45984417423918417, \"Class\": 3}, {\"PC 1\": -0.1573112112492105, \"PC 2\": -1.1197134311183619, \"PC 3\": -0.026508812979000748, \"Class\": 0}, {\"PC 1\": -0.3356815712788949, \"PC 2\": 1.6407049065331611, \"PC 3\": -0.17856977204932195, \"Class\": 3}, {\"PC 1\": -0.33351790131290393, \"PC 2\": 1.0175661421802205, \"PC 3\": -0.5090368283728416, \"Class\": 3}, {\"PC 1\": -0.09350936564827768, \"PC 2\": 0.6354212825104527, \"PC 3\": -0.10467250858149317, \"Class\": 3}, {\"PC 1\": -0.2252238940508404, \"PC 2\": -0.8914859213667398, \"PC 3\": 0.10346446617339758, \"Class\": 0}, {\"PC 1\": -0.177991341416447, \"PC 2\": -1.5919399528134255, \"PC 3\": 0.23771125419850908, \"Class\": 0}, {\"PC 1\": -0.1479007862023084, \"PC 2\": -1.992241946620739, \"PC 3\": 0.3764599979398645, \"Class\": 0}, {\"PC 1\": -0.1780915496237805, \"PC 2\": -1.591933890160184, \"PC 3\": 0.237712318785256, \"Class\": 0}, {\"PC 1\": -0.402939297008865, \"PC 2\": 1.245829155734842, \"PC 3\": -0.37903480077987006, \"Class\": 3}, {\"PC 1\": 3.7242759696184367, \"PC 2\": 1.863737843679269, \"PC 3\": -0.4066211901216604, \"Class\": 3}, {\"PC 1\": 0.18505083177062762, \"PC 2\": 1.4665526754307072, \"PC 3\": -0.49200901700432015, \"Class\": 3}, {\"PC 1\": -0.2870828497661219, \"PC 2\": 1.7528701706763967, \"PC 3\": -0.5009095729669042, \"Class\": 3}, {\"PC 1\": -0.11274742384584878, \"PC 2\": -1.8282252645581123, \"PC 3\": 0.30220433753602766, \"Class\": 0}, {\"PC 1\": -0.33097781654009145, \"PC 2\": 1.0175121982323942, \"PC 3\": -0.5090865593211377, \"Class\": 3}, {\"PC 1\": 1.1408785749043548, \"PC 2\": -2.307595783688461, \"PC 3\": 0.3735240233164046, \"Class\": 0}, {\"PC 1\": 0.30283140786065743, \"PC 2\": -2.2750714137016175, \"PC 3\": 0.3865730191447206, \"Class\": 0}, {\"PC 1\": -0.07278729469702117, \"PC 2\": -1.9966615811563628, \"PC 3\": 0.375633554242711, \"Class\": 0}, {\"PC 1\": -0.3190868876153254, \"PC 2\": 1.2801460418239856, \"PC 3\": -0.27605381983601607, \"Class\": 3}, {\"PC 1\": -0.3473359806866456, \"PC 2\": 1.4503950291965533, \"PC 3\": -0.25694759886591684, \"Class\": 3}, {\"PC 1\": -0.22496586413775185, \"PC 2\": -0.8916203180822757, \"PC 3\": 0.10348881605076793, \"Class\": 0}, {\"PC 1\": -0.13849423920045045, \"PC 2\": -2.162764601667807, \"PC 3\": 0.39346546024934387, \"Class\": 0}, {\"PC 1\": 0.08064232077847605, \"PC 2\": 0.9957794379518153, \"PC 3\": -0.5141825925799796, \"Class\": 3}, {\"PC 1\": -0.3326564753463963, \"PC 2\": 1.0174984699711094, \"PC 3\": -0.5090424322589443, \"Class\": 3}, {\"PC 1\": -0.07535236320445014, \"PC 2\": -1.1204531573853131, \"PC 3\": -0.02834169949170657, \"Class\": 0}, {\"PC 1\": -0.4035204026965848, \"PC 2\": 1.245876801410804, \"PC 3\": -0.3790314754645582, \"Class\": 3}, {\"PC 1\": 1.1112902433499279, \"PC 2\": -1.1573350695228848, \"PC 3\": 0.092029201129737, \"Class\": 0}, {\"PC 1\": -0.22965421714138412, \"PC 2\": -0.8913991907834471, \"PC 3\": 0.10355288284815561, \"Class\": 0}, {\"PC 1\": -0.17814348320577053, \"PC 2\": -1.591927915357311, \"PC 3\": 0.23771222444797893, \"Class\": 0}, {\"PC 1\": -0.3465006846896345, \"PC 2\": 1.4503516700708137, \"PC 3\": -0.2569581096216699, \"Class\": 3}, {\"PC 1\": -0.1711800743274365, \"PC 2\": -1.5920356171348953, \"PC 3\": 0.23756672775385587, \"Class\": 0}, {\"PC 1\": -0.1582325242993552, \"PC 2\": -1.1197187692765278, \"PC 3\": -0.026485095272635366, \"Class\": 0}, {\"PC 1\": -0.32021999944844387, \"PC 2\": 1.0173815929247605, \"PC 3\": -0.5093194992677699, \"Class\": 3}, {\"PC 1\": -0.33376373331773174, \"PC 2\": 1.0175655639055912, \"PC 3\": -0.5090306927939865, \"Class\": 3}, {\"PC 1\": -0.34899646221305586, \"PC 2\": 1.0569014505798258, \"PC 3\": -0.17613403764795604, \"Class\": 3}, {\"PC 1\": -0.229579606178879, \"PC 2\": -0.8913989621228362, \"PC 3\": 0.10355100855405823, \"Class\": 0}, {\"PC 1\": -0.1475532348168913, \"PC 2\": -1.312307208122825, \"PC 3\": 0.1791183477194703, \"Class\": 0}, {\"PC 1\": -0.22153303264244165, \"PC 2\": -1.178885781375827, \"PC 3\": 0.1839016691706317, \"Class\": 0}, {\"PC 1\": -0.34131139749878664, \"PC 2\": 1.4737408994242345, \"PC 3\": -0.21665383696913013, \"Class\": 3}, {\"PC 1\": -0.26936324479671164, \"PC 2\": -0.04381281985983148, \"PC 3\": 0.0967955538720425, \"Class\": 3}, {\"PC 1\": -0.26456747305640654, \"PC 2\": 0.32808511311878186, \"PC 3\": -0.3429258676410952, \"Class\": 3}, {\"PC 1\": 8.0409539667289, \"PC 2\": -2.7294064426703084, \"PC 3\": 0.30121195296256753, \"Class\": 0}, {\"PC 1\": -0.15853670663411568, \"PC 2\": -2.1703452809677737, \"PC 3\": 0.4262161543599397, \"Class\": 0}, {\"PC 1\": -0.329308089932908, \"PC 2\": 1.0175528151522781, \"PC 3\": -0.5091366006597641, \"Class\": 3}, {\"PC 1\": 0.30670641157216716, \"PC 2\": -2.2751720940280666, \"PC 3\": 0.3865013459214782, \"Class\": 0}, {\"PC 1\": 0.033853730323498, \"PC 2\": -1.1203447554577437, \"PC 3\": -0.031033446611313964, \"Class\": 0}, {\"PC 1\": -0.14694553695066082, \"PC 2\": -2.1496704296059295, \"PC 3\": 0.38514564439464555, \"Class\": 0}, {\"PC 1\": -0.17677595820014322, \"PC 2\": -1.232055640061873, \"PC 3\": 0.15233906793176466, \"Class\": 0}, {\"PC 1\": -0.22710120317514473, \"PC 2\": 1.5636361215769938, \"PC 3\": -0.29808642233824506, \"Class\": 3}, {\"PC 1\": -0.19076576989908944, \"PC 2\": 3.5284553710704634, \"PC 3\": 17.193611534833334, \"Class\": 1}, {\"PC 1\": -0.3612410875282594, \"PC 2\": 3.3476506842236997, \"PC 3\": 18.90588336109352, \"Class\": 1}, {\"PC 1\": -0.1588063921783883, \"PC 2\": -1.11972096641759, \"PC 3\": -0.026470579212561043, \"Class\": 0}, {\"PC 1\": 0.14833304807828815, \"PC 2\": -1.122496162321672, \"PC 3\": -0.03333858806743933, \"Class\": 0}, {\"PC 1\": -0.22371961989716596, \"PC 2\": -0.8915424768629473, \"PC 3\": 0.10344062733380012, \"Class\": 0}, {\"PC 1\": -0.39614775198333124, \"PC 2\": 0.9583891728503835, \"PC 3\": -0.29866417177165916, \"Class\": 3}, {\"PC 1\": -0.35291479917452423, \"PC 2\": 3.249237154625627, \"PC 3\": -1.4168379516948257, \"Class\": 3}, {\"PC 1\": -0.4042231931261257, \"PC 2\": 1.2458709682537468, \"PC 3\": -0.37901298161065483, \"Class\": 3}, {\"PC 1\": -0.359557703573719, \"PC 2\": 1.181644973298228, \"PC 3\": -0.19683433304992393, \"Class\": 3}, {\"PC 1\": -0.2774034739308673, \"PC 2\": 0.8285455806752793, \"PC 3\": -0.30616792225851563, \"Class\": 3}, {\"PC 1\": -0.2922371112795683, \"PC 2\": 1.4289930981100616, \"PC 3\": -0.29553414206880907, \"Class\": 3}, {\"PC 1\": -0.10093797352414895, \"PC 2\": -1.9951074001355136, \"PC 3\": 0.37596659077712213, \"Class\": 0}, {\"PC 1\": 0.31075492041984704, \"PC 2\": -2.2755105560474744, \"PC 3\": 0.38647966554487345, \"Class\": 0}, {\"PC 1\": -0.15904343987122999, \"PC 2\": -1.1197153724569817, \"PC 3\": -0.026466065847316964, \"Class\": 0}, {\"PC 1\": -0.13299728370667852, \"PC 2\": -2.3413376499800664, \"PC 3\": 0.36596852049634704, \"Class\": 0}, {\"PC 1\": -0.37415003184960427, \"PC 2\": 1.4691079983998796, \"PC 3\": -0.47893503446448676, \"Class\": 3}, {\"PC 1\": -0.33379109449644556, \"PC 2\": 1.0175653559089946, \"PC 3\": -0.5090299771438581, \"Class\": 3}, {\"PC 1\": -0.33377280431452283, \"PC 2\": 1.0175645422003616, \"PC 3\": -0.50903023824535, \"Class\": 3}, {\"PC 1\": -0.16327356189920075, \"PC 2\": -2.192053664988852, \"PC 3\": 0.3754993225260837, \"Class\": 0}, {\"PC 1\": -0.2717839771391847, \"PC 2\": 0.8284662172030232, \"PC 3\": -0.3062870610526374, \"Class\": 3}, {\"PC 1\": -0.14128464386144243, \"PC 2\": -2.197062083550107, \"PC 3\": 0.37875222733221114, \"Class\": 0}, {\"PC 1\": -0.32662423383967687, \"PC 2\": 1.5434404313107681, \"PC 3\": -0.14519000938936488, \"Class\": 3}, {\"PC 1\": -0.33353824023108763, \"PC 2\": 1.6890710492599914, \"PC 3\": -0.20855660235365742, \"Class\": 3}, {\"PC 1\": -0.3334892827610014, \"PC 2\": 1.0175562236990208, \"PC 3\": -0.5090352652141699, \"Class\": 3}, {\"PC 1\": 3.8952331574160626, \"PC 2\": 1.7053918534452241, \"PC 3\": -0.3620584170597531, \"Class\": 3}, {\"PC 1\": -0.228748735840266, \"PC 2\": -0.8914260134333385, \"PC 3\": 0.10353688660554218, \"Class\": 0}, {\"PC 1\": -0.39978719835359755, \"PC 2\": 1.6393322959518897, \"PC 3\": -0.4598869708619533, \"Class\": 3}, {\"PC 1\": -0.33372695115187034, \"PC 2\": 1.689070403907902, \"PC 3\": -0.20855184648409053, \"Class\": 3}, {\"PC 1\": 0.3030139764829225, \"PC 2\": -2.2750694730581627, \"PC 3\": 0.3865681178686444, \"Class\": 0}, {\"PC 1\": -0.32510383385884306, \"PC 2\": 0.6656161254565095, \"PC 3\": -0.07641918841102337, \"Class\": 3}, {\"PC 1\": -0.2803540902505447, \"PC 2\": 1.0157062604510911, \"PC 3\": -0.5099110137475978, \"Class\": 3}, {\"PC 1\": -0.19968597516384484, \"PC 2\": -0.6681486723779666, \"PC 3\": 0.0036303160986980157, \"Class\": 0}, {\"PC 1\": -0.1454734164435813, \"PC 2\": -2.194754934128911, \"PC 3\": 0.38182573860521773, \"Class\": 0}, {\"PC 1\": -0.3600387802963596, \"PC 2\": 0.6855362203693328, \"PC 3\": 0.31934576652680696, \"Class\": 3}, {\"PC 1\": -0.15454984597706709, \"PC 2\": -2.178080626281949, \"PC 3\": 0.33835168134299076, \"Class\": 0}, {\"PC 1\": -0.2779376410450913, \"PC 2\": 0.8285976727983432, \"PC 3\": -0.3061667573622694, \"Class\": 3}, {\"PC 1\": -0.14358561035713155, \"PC 2\": -2.196932602487911, \"PC 3\": 0.3787788910196912, \"Class\": 0}, {\"PC 1\": 0.3069421532582631, \"PC 2\": -2.2753530373432347, \"PC 3\": 0.38653685586786257, \"Class\": 0}, {\"PC 1\": 0.5907966759250837, \"PC 2\": -2.1060442431567052, \"PC 3\": 0.31886264682409055, \"Class\": 0}, {\"PC 1\": 2.1116866346671457, \"PC 2\": -2.3456654163383606, \"PC 3\": 0.35849744138553885, \"Class\": 0}, {\"PC 1\": -0.1368649990478537, \"PC 2\": 1.0169159759964168, \"PC 3\": -0.5136911914244305, \"Class\": 3}, {\"PC 1\": -0.2781898225189224, \"PC 2\": 0.8285762813271911, \"PC 3\": -0.3061557199119977, \"Class\": 3}, {\"PC 1\": -0.16721114846210464, \"PC 2\": -2.4549443070170036, \"PC 3\": 0.4086440804214039, \"Class\": 0}, {\"PC 1\": -0.3676027620217033, \"PC 2\": 1.8153331815428317, \"PC 3\": -0.5429359952917797, \"Class\": 3}, {\"PC 1\": 0.3166213158670208, \"PC 2\": -2.275312546538198, \"PC 3\": 0.38629123735985915, \"Class\": 0}, {\"PC 1\": -0.33296327175115503, \"PC 2\": 1.017535339611602, \"PC 3\": -0.5090433484483234, \"Class\": 3}, {\"PC 1\": -0.20132863229432393, \"PC 2\": 1.6314604051062427, \"PC 3\": -0.385732101229039, \"Class\": 3}, {\"PC 1\": 2.264420292484993, \"PC 2\": 0.3695284690122089, \"PC 3\": -0.5038310044306479, \"Class\": 3}, {\"PC 1\": -0.3430440162951529, \"PC 2\": 1.450089112604079, \"PC 3\": -0.25698264743888904, \"Class\": 3}, {\"PC 1\": -0.2658783246893781, \"PC 2\": 0.6359713128424762, \"PC 3\": -0.10058836874092224, \"Class\": 3}, {\"PC 1\": 1.0236863680533534, \"PC 2\": 1.696978148367911, \"PC 3\": -0.29421859956385027, \"Class\": 3}, {\"PC 1\": -0.20586792511028537, \"PC 2\": -1.2826725607025855, \"PC 3\": 0.20326760243536143, \"Class\": 0}, {\"PC 1\": -0.1391197613935156, \"PC 2\": -2.329201172282074, \"PC 3\": 0.27633242248798295, \"Class\": 0}, {\"PC 1\": -0.22963637400123055, \"PC 2\": -0.8913994471569777, \"PC 3\": 0.10355250555449605, \"Class\": 0}, {\"PC 1\": -0.3796679810864987, \"PC 2\": 0.8545840038599206, \"PC 3\": -0.27931394008631694, \"Class\": 3}, {\"PC 1\": -0.34744955153518353, \"PC 2\": 1.4503904802888792, \"PC 3\": -0.25694378778982285, \"Class\": 3}, {\"PC 1\": -0.4028038333375609, \"PC 2\": 1.6393698952740385, \"PC 3\": -0.45982187396382523, \"Class\": 3}, {\"PC 1\": -0.15892229854652606, \"PC 2\": 0.8205552727398467, \"PC 3\": -0.30723913566907124, \"Class\": 3}, {\"PC 1\": -0.36648690121201183, \"PC 2\": 0.9054566680895944, \"PC 3\": -0.32991222662304126, \"Class\": 3}, {\"PC 1\": -0.3461688577346316, \"PC 2\": 1.4503771808907941, \"PC 3\": -0.256972031656657, \"Class\": 3}, {\"PC 1\": -0.15906803308667497, \"PC 2\": -1.1197169934060465, \"PC 3\": -0.026465095548257, \"Class\": 0}, {\"PC 1\": -0.32666779780160166, \"PC 2\": 1.0170924061947824, \"PC 3\": -0.5090960775752159, \"Class\": 3}, {\"PC 1\": -0.13837591311947456, \"PC 2\": -2.1632976264352317, \"PC 3\": 0.3935841359031303, \"Class\": 0}, {\"PC 1\": -0.14666500347910913, \"PC 2\": -2.28290685127515, \"PC 3\": 0.3974355453053586, \"Class\": 0}, {\"PC 1\": -0.1837386414065817, \"PC 2\": -0.9556940416450554, \"PC 3\": 0.28571670565025437, \"Class\": 0}, {\"PC 1\": 3.113791644012324, \"PC 2\": -2.1527716652767754, \"PC 3\": 0.2679032126501102, \"Class\": 0}, {\"PC 1\": -0.34857381352898553, \"PC 2\": 1.0568913882896809, \"PC 3\": -0.17614206466979812, \"Class\": 3}, {\"PC 1\": -0.4036964187820358, \"PC 2\": 1.2458708603079547, \"PC 3\": -0.37902582184099814, \"Class\": 3}, {\"PC 1\": -0.2754349211153088, \"PC 2\": 0.8285147134841521, \"PC 3\": -0.3062089583386955, \"Class\": 3}, {\"PC 1\": -0.3328267627655162, \"PC 2\": 1.6890077691998502, \"PC 3\": -0.20855954591171283, \"Class\": 3}, {\"PC 1\": -0.1073925185584837, \"PC 2\": -1.312439840284831, \"PC 3\": 0.17816779431509605, \"Class\": 0}, {\"PC 1\": -0.35984913099305543, \"PC 2\": 1.0309510595837674, \"PC 3\": -0.33434042034769995, \"Class\": 3}, {\"PC 1\": -0.34843525219516086, \"PC 2\": 1.0568638663151608, \"PC 3\": -0.17613917174925725, \"Class\": 3}, {\"PC 1\": -0.22960773931265407, \"PC 2\": -0.8914013427660619, \"PC 3\": 0.10355223856601034, \"Class\": 0}, {\"PC 1\": -0.1932698361531617, \"PC 2\": 1.0094309986075753, \"PC 3\": -0.5106065991267962, \"Class\": 3}, {\"PC 1\": -0.45482335920136013, \"PC 2\": 1.4362446504594657, \"PC 3\": 0.6832211169501061, \"Class\": 3}, {\"PC 1\": -0.2052956367491275, \"PC 2\": -1.2827090013420535, \"PC 3\": 0.20326193695620584, \"Class\": 0}, {\"PC 1\": -0.3314112833185891, \"PC 2\": 3.228210445258175, \"PC 3\": 14.21147002446981, \"Class\": 1}, {\"PC 1\": -0.059010361665379575, \"PC 2\": -2.1939223929165843, \"PC 3\": 0.3733792086750379, \"Class\": 0}, {\"PC 1\": -0.3043230500756848, \"PC 2\": 0.992680016218133, \"PC 3\": 0.006043377306565318, \"Class\": 3}, {\"PC 1\": -0.1429833303646252, \"PC 2\": -2.1969648650940106, \"PC 3\": 0.37877154021494225, \"Class\": 0}, {\"PC 1\": -0.1475738842609406, \"PC 2\": -1.3123085018594662, \"PC 3\": 0.1791191470776141, \"Class\": 0}, {\"PC 1\": 0.40896987171142213, \"PC 2\": 0.18558213979311197, \"PC 3\": 0.4011269782594302, \"Class\": 3}, {\"PC 1\": -0.13888155491713314, \"PC 2\": 1.0640085232805483, \"PC 3\": -0.1828863397942125, \"Class\": 3}, {\"PC 1\": 0.3827825384385536, \"PC 2\": -2.2781453488235046, \"PC 3\": 0.38532152119198737, \"Class\": 0}, {\"PC 1\": -0.4020983497900811, \"PC 2\": 1.639358754651941, \"PC 3\": -0.45983656242852383, \"Class\": 3}, {\"PC 1\": -0.14516040604003394, \"PC 2\": -2.3636862934679956, \"PC 3\": 0.35334767655352334, \"Class\": 0}, {\"PC 1\": -0.14555237292241677, \"PC 2\": -2.363642359028548, \"PC 3\": 0.3533472291439679, \"Class\": 0}, {\"PC 1\": -0.2830857111740371, \"PC 2\": -0.2437930693091271, \"PC 3\": 0.09583301110263949, \"Class\": 0}, {\"PC 1\": -0.15604585533116994, \"PC 2\": -2.327709925954928, \"PC 3\": 0.4539442805461038, \"Class\": 0}, {\"PC 1\": -0.1579601791292205, \"PC 2\": -1.1197496464534906, \"PC 3\": -0.026484704401113158, \"Class\": 0}, {\"PC 1\": -0.3334932370609336, \"PC 2\": 1.0175625300008873, \"PC 3\": -0.5090366069024044, \"Class\": 3}, {\"PC 1\": -0.16234271790222674, \"PC 2\": -2.1921602002709584, \"PC 3\": 0.3755008867051262, \"Class\": 0}, {\"PC 1\": -0.4025545333845899, \"PC 2\": 1.6393683748033143, \"PC 3\": -0.45982761558194973, \"Class\": 3}, {\"PC 1\": -0.1641154900422487, \"PC 2\": -2.192054095492718, \"PC 3\": 0.3755199822249236, \"Class\": 0}, {\"PC 1\": -0.3475665480084299, \"PC 2\": 1.450391990781357, \"PC 3\": -0.2569412750030793, \"Class\": 3}, {\"PC 1\": 0.5731362770629065, \"PC 2\": 0.9946575275255486, \"PC 3\": -0.5259543775322104, \"Class\": 3}, {\"PC 1\": -0.18324678653085893, \"PC 2\": -1.5528504003172094, \"PC 3\": 0.12822880549033555, \"Class\": 0}, {\"PC 1\": -0.3490507916434764, \"PC 2\": 1.056900546978008, \"PC 3\": -0.17613250473625944, \"Class\": 3}, {\"PC 1\": -0.3329761378637144, \"PC 2\": 1.0175349053393723, \"PC 3\": -0.5090429351897461, \"Class\": 3}, {\"PC 1\": -0.35401256230178924, \"PC 2\": 1.1815173061559172, \"PC 3\": -0.19694063946101747, \"Class\": 3}, {\"PC 1\": -0.3223193688052269, \"PC 2\": 1.8133555419987362, \"PC 3\": -0.5435908689258582, \"Class\": 3}, {\"PC 1\": -0.40126113979157896, \"PC 2\": 1.2456883125362421, \"PC 3\": -0.3790436629297756, \"Class\": 3}, {\"PC 1\": -0.14684987651448325, \"PC 2\": -1.3123148320946019, \"PC 3\": 0.1791029091251781, \"Class\": 0}, {\"PC 1\": -0.11620459089146662, \"PC 2\": -0.3843795238270469, \"PC 3\": -0.01825824133827359, \"Class\": 0}, {\"PC 1\": -0.14571767053558288, \"PC 2\": -1.3123510316848042, \"PC 3\": 0.179083514398491, \"Class\": 0}, {\"PC 1\": -0.40392368191680605, \"PC 2\": 1.2458775000587552, \"PC 3\": -0.37902178594392544, \"Class\": 3}, {\"PC 1\": 3.7365204439963273, \"PC 2\": 1.8637933685282715, \"PC 3\": -0.4069328872796661, \"Class\": 3}, {\"PC 1\": 0.10149518773606613, \"PC 2\": 1.0072162409009595, \"PC 3\": -0.5173002182861426, \"Class\": 3}, {\"PC 1\": 0.5368541082693588, \"PC 2\": -1.1664051077617659, \"PC 3\": -0.03281283920789808, \"Class\": 0}, {\"PC 1\": -0.40146247715846983, \"PC 2\": 1.2459820394561492, \"PC 3\": -0.37910573532437375, \"Class\": 3}, {\"PC 1\": -0.10329241458097795, \"PC 2\": -1.5922485484501303, \"PC 3\": 0.23595734230892504, \"Class\": 0}, {\"PC 1\": -0.3323616970163554, \"PC 2\": 1.0174726431660401, \"PC 3\": -0.5090437410722171, \"Class\": 3}, {\"PC 1\": -0.09601742332043361, \"PC 2\": -2.3669610565327663, \"PC 3\": 0.3528943754544889, \"Class\": 0}, {\"PC 1\": -0.3331866213739229, \"PC 2\": 1.01754908349658, \"PC 3\": -0.5090410283459738, \"Class\": 3}, {\"PC 1\": -0.2670930187410753, \"PC 2\": 0.6359870275598031, \"PC 3\": -0.10056228757054089, \"Class\": 3}, {\"PC 1\": -0.33370499519194347, \"PC 2\": 1.0175704086251218, \"PC 3\": -0.509033232213793, \"Class\": 3}, {\"PC 1\": -0.3955499225917525, \"PC 2\": 1.2458238418676053, \"PC 3\": -0.37921405168945116, \"Class\": 3}, {\"PC 1\": -0.14261845227880604, \"PC 2\": -1.1198614809675227, \"PC 3\": -0.026833873297909084, \"Class\": 0}, {\"PC 1\": -0.24740441917588823, \"PC 2\": 1.0129702603853843, \"PC 3\": -0.510091716936363, \"Class\": 3}, {\"PC 1\": -0.10194006747753645, \"PC 2\": 0.8322769981195346, \"PC 3\": -0.3104928843500185, \"Class\": 3}, {\"PC 1\": -0.39129807174031805, \"PC 2\": 1.2456095902454263, \"PC 3\": -0.37926902637483173, \"Class\": 3}, {\"PC 1\": -0.14736398288433603, \"PC 2\": -1.3123164431550685, \"PC 3\": 0.1791158320278161, \"Class\": 0}, {\"PC 1\": -0.33298311937798203, \"PC 2\": 1.017584041276919, \"PC 3\": -0.5090539709777716, \"Class\": 3}, {\"PC 1\": 0.5567385125036182, \"PC 2\": -1.1313169390540456, \"PC 3\": -0.041300911260046425, \"Class\": 0}, {\"PC 1\": -0.3260461138570593, \"PC 2\": 1.017542708143634, \"PC 3\": -0.5092139593541355, \"Class\": 3}, {\"PC 1\": -0.20296522172674342, \"PC 2\": -1.115390229498766, \"PC 3\": 0.12408592098389991, \"Class\": 0}, {\"PC 1\": -0.400491607533151, \"PC 2\": 1.2458659791068385, \"PC 3\": -0.3791029762943313, \"Class\": 3}, {\"PC 1\": -0.33142214412168003, \"PC 2\": 1.0175329772744586, \"PC 3\": -0.5090804469970387, \"Class\": 3}, {\"PC 1\": -0.3343189093508433, \"PC 2\": 1.6891012260817964, \"PC 3\": -0.20854441924234382, \"Class\": 3}, {\"PC 1\": -0.15914485667215145, \"PC 2\": -1.1197073471129746, \"PC 3\": -0.026465419369539125, \"Class\": 0}, {\"PC 1\": -0.15710028033978618, \"PC 2\": -1.1197649850079803, \"PC 3\": -0.0265022065747306, \"Class\": 0}, {\"PC 1\": -0.3783981375994776, \"PC 2\": 0.858569331480539, \"PC 3\": -0.016430956194068043, \"Class\": 3}, {\"PC 1\": -0.3208663549187082, \"PC 2\": 0.8249483595113799, \"PC 3\": -0.30347485935235036, \"Class\": 3}, {\"PC 1\": 3.7198111398842726, \"PC 2\": 1.8638304801370809, \"PC 3\": -0.4065332776634611, \"Class\": 3}, {\"PC 1\": -0.08543357127383046, \"PC 2\": 0.8279522765650548, \"PC 3\": -0.31072088576166385, \"Class\": 3}, {\"PC 1\": -0.3286163485502338, \"PC 2\": 1.0175275075689674, \"PC 3\": -0.5091477224966267, \"Class\": 3}, {\"PC 1\": -0.3525286834591633, \"PC 2\": 0.545324141461581, \"PC 3\": -0.24485399964976132, \"Class\": 3}, {\"PC 1\": -0.12325258506320394, \"PC 2\": -1.8281096007024802, \"PC 3\": 0.302434514790539, \"Class\": 0}, {\"PC 1\": -0.29081185678658683, \"PC 2\": 1.75289448031091, \"PC 3\": -0.5008240476242772, \"Class\": 3}, {\"PC 1\": -0.12029766893063945, \"PC 2\": -2.3798112607144835, \"PC 3\": 0.36158250099111555, \"Class\": 0}, {\"PC 1\": 3.7296826536042116, \"PC 2\": 1.8642781015791792, \"PC 3\": -0.40687644685618085, \"Class\": 3}, {\"PC 1\": -0.14956870689647184, \"PC 2\": -1.9921154176501985, \"PC 3\": 0.3764718746983481, \"Class\": 0}, {\"PC 1\": 3.730927184204506, \"PC 2\": 1.8643201084462002, \"PC 3\": -0.40691642108640774, \"Class\": 3}, {\"PC 1\": -0.24798598362083712, \"PC 2\": 0.6359314466858015, \"PC 3\": -0.10101624218805022, \"Class\": 3}, {\"PC 1\": -0.37976001367470597, \"PC 2\": 2.9076591616235454, \"PC 3\": 6.718463275468327, \"Class\": 3}, {\"PC 1\": -0.3342547546385909, \"PC 2\": 1.6891036532913222, \"PC 3\": -0.20854653959121489, \"Class\": 3}, {\"PC 1\": 34.05995856294295, \"PC 2\": 1.7178946496726568, \"PC 3\": -1.2929110305958047, \"Class\": 2}, {\"PC 1\": -0.3093833104123562, \"PC 2\": 2.2996460616756593, \"PC 3\": -0.201452171037282, \"Class\": 3}, {\"PC 1\": 2.4651986268328456, \"PC 2\": 0.8027455604222612, \"PC 3\": -0.2137388382963143, \"Class\": 3}, {\"PC 1\": -0.33186801245768494, \"PC 2\": 1.017453530078973, \"PC 3\": -0.509051438738745, \"Class\": 3}, {\"PC 1\": 0.32459280911708693, \"PC 2\": -2.2753298546443315, \"PC 3\": 0.386100505472617, \"Class\": 0}, {\"PC 1\": -0.16440376226765568, \"PC 2\": -2.192056751865561, \"PC 3\": 0.37552762822192826, \"Class\": 0}, {\"PC 1\": -0.2785863192997751, \"PC 2\": 0.8285936660993359, \"PC 3\": -0.30615000158739347, \"Class\": 3}]}}, {\"mode\": \"vega-lite\"});\n",
       "</script>"
      ],
      "text/plain": [
       "alt.Chart(...)"
      ]
     },
     "execution_count": 22,
     "metadata": {},
     "output_type": "execute_result"
    }
   ],
   "source": [
    "# Create a 3D-Scatter with the PCA data and the clusters\n",
    "\n",
    "alt.Chart(features_pca).mark_point().encode(\n",
    "    x=\"PC 1\",\n",
    "    y=\"PC 2\"\n",
    ")"
   ]
  },
  {
   "cell_type": "markdown",
   "metadata": {},
   "source": [
    "#### Table of Tradable Cryptocurrencies"
   ]
  },
  {
   "cell_type": "code",
   "execution_count": 23,
   "metadata": {},
   "outputs": [
    {
     "data": {
      "text/html": [
       "<div>\n",
       "<style scoped>\n",
       "    .dataframe tbody tr th:only-of-type {\n",
       "        vertical-align: middle;\n",
       "    }\n",
       "\n",
       "    .dataframe tbody tr th {\n",
       "        vertical-align: top;\n",
       "    }\n",
       "\n",
       "    .dataframe thead th {\n",
       "        text-align: right;\n",
       "    }\n",
       "</style>\n",
       "<table border=\"1\" class=\"dataframe\">\n",
       "  <thead>\n",
       "    <tr style=\"text-align: right;\">\n",
       "      <th></th>\n",
       "      <th>CoinName</th>\n",
       "      <th>Algorithm</th>\n",
       "      <th>ProofType</th>\n",
       "      <th>TotalCoinsMined</th>\n",
       "      <th>TotalCoinSupply</th>\n",
       "    </tr>\n",
       "  </thead>\n",
       "  <tbody>\n",
       "    <tr>\n",
       "      <th>0</th>\n",
       "      <td>42 Coin</td>\n",
       "      <td>Scrypt</td>\n",
       "      <td>PoW/PoS</td>\n",
       "      <td>4.199995e+01</td>\n",
       "      <td>42</td>\n",
       "    </tr>\n",
       "    <tr>\n",
       "      <th>2</th>\n",
       "      <td>404Coin</td>\n",
       "      <td>Scrypt</td>\n",
       "      <td>PoW/PoS</td>\n",
       "      <td>1.055185e+09</td>\n",
       "      <td>532000000</td>\n",
       "    </tr>\n",
       "    <tr>\n",
       "      <th>5</th>\n",
       "      <td>EliteCoin</td>\n",
       "      <td>X13</td>\n",
       "      <td>PoW/PoS</td>\n",
       "      <td>2.927942e+10</td>\n",
       "      <td>314159265359</td>\n",
       "    </tr>\n",
       "    <tr>\n",
       "      <th>7</th>\n",
       "      <td>Bitcoin</td>\n",
       "      <td>SHA-256</td>\n",
       "      <td>PoW</td>\n",
       "      <td>1.792718e+07</td>\n",
       "      <td>21000000</td>\n",
       "    </tr>\n",
       "    <tr>\n",
       "      <th>8</th>\n",
       "      <td>Ethereum</td>\n",
       "      <td>Ethash</td>\n",
       "      <td>PoW</td>\n",
       "      <td>1.076842e+08</td>\n",
       "      <td>0</td>\n",
       "    </tr>\n",
       "  </tbody>\n",
       "</table>\n",
       "</div>"
      ],
      "text/plain": [
       "    CoinName Algorithm ProofType  TotalCoinsMined TotalCoinSupply\n",
       "0    42 Coin    Scrypt   PoW/PoS     4.199995e+01              42\n",
       "2    404Coin    Scrypt   PoW/PoS     1.055185e+09       532000000\n",
       "5  EliteCoin       X13   PoW/PoS     2.927942e+10    314159265359\n",
       "7    Bitcoin   SHA-256       PoW     1.792718e+07        21000000\n",
       "8   Ethereum    Ethash       PoW     1.076842e+08               0"
      ]
     },
     "execution_count": 23,
     "metadata": {},
     "output_type": "execute_result"
    }
   ],
   "source": [
    "# Table with tradable cryptos\n",
    "at_crypto_df_copy.head()\n",
    "\n"
   ]
  },
  {
   "cell_type": "code",
   "execution_count": 24,
   "metadata": {},
   "outputs": [
    {
     "data": {
      "text/plain": [
       "True    1144\n",
       "Name: IsTrading, dtype: int64"
      ]
     },
     "execution_count": 24,
     "metadata": {},
     "output_type": "execute_result"
    }
   ],
   "source": [
    "# Print the total number of tradable cryptocurrencies\n",
    "t_crypto_df['IsTrading'].value_counts()"
   ]
  },
  {
   "cell_type": "markdown",
   "metadata": {},
   "source": [
    "#### Scatter Plot with Tradable Cryptocurrencies"
   ]
  },
  {
   "cell_type": "code",
   "execution_count": 25,
   "metadata": {},
   "outputs": [
    {
     "name": "stdout",
     "output_type": "stream",
     "text": [
      "[[-0.11710817 -0.1528703 ]\n",
      " [-0.09396955 -0.145009  ]\n",
      " [ 0.52494561  4.48942416]\n",
      " [-0.11671506 -0.15255998]\n",
      " [-0.11474682 -0.1528703 ]\n",
      " [-0.11572582 -0.15162904]\n",
      " [-0.11691013 -0.15254521]\n",
      " [-0.11673098 -0.1528703 ]\n",
      " [-0.11462236 -0.14976715]\n",
      " [-0.11694627 -0.15255998]]\n"
     ]
    },
    {
     "data": {
      "text/html": [
       "<div>\n",
       "<style scoped>\n",
       "    .dataframe tbody tr th:only-of-type {\n",
       "        vertical-align: middle;\n",
       "    }\n",
       "\n",
       "    .dataframe tbody tr th {\n",
       "        vertical-align: top;\n",
       "    }\n",
       "\n",
       "    .dataframe thead th {\n",
       "        text-align: right;\n",
       "    }\n",
       "</style>\n",
       "<table border=\"1\" class=\"dataframe\">\n",
       "  <thead>\n",
       "    <tr style=\"text-align: right;\">\n",
       "      <th></th>\n",
       "      <th>TotalCoinsMined</th>\n",
       "      <th>TotalCoinSupply</th>\n",
       "    </tr>\n",
       "    <tr>\n",
       "      <th>CoinName</th>\n",
       "      <th></th>\n",
       "      <th></th>\n",
       "    </tr>\n",
       "  </thead>\n",
       "  <tbody>\n",
       "    <tr>\n",
       "      <th>42 Coin</th>\n",
       "      <td>-0.117108</td>\n",
       "      <td>-0.152870</td>\n",
       "    </tr>\n",
       "    <tr>\n",
       "      <th>404Coin</th>\n",
       "      <td>-0.093970</td>\n",
       "      <td>-0.145009</td>\n",
       "    </tr>\n",
       "    <tr>\n",
       "      <th>EliteCoin</th>\n",
       "      <td>0.524946</td>\n",
       "      <td>4.489424</td>\n",
       "    </tr>\n",
       "    <tr>\n",
       "      <th>Bitcoin</th>\n",
       "      <td>-0.116715</td>\n",
       "      <td>-0.152560</td>\n",
       "    </tr>\n",
       "    <tr>\n",
       "      <th>Ethereum</th>\n",
       "      <td>-0.114747</td>\n",
       "      <td>-0.152870</td>\n",
       "    </tr>\n",
       "  </tbody>\n",
       "</table>\n",
       "</div>"
      ],
      "text/plain": [
       "           TotalCoinsMined  TotalCoinSupply\n",
       "CoinName                                   \n",
       "42 Coin          -0.117108        -0.152870\n",
       "404Coin          -0.093970        -0.145009\n",
       "EliteCoin         0.524946         4.489424\n",
       "Bitcoin          -0.116715        -0.152560\n",
       "Ethereum         -0.114747        -0.152870"
      ]
     },
     "execution_count": 25,
     "metadata": {},
     "output_type": "execute_result"
    }
   ],
   "source": [
    "# Scale data to create the scatter plot\n",
    "at_crypto_df_copy.drop(columns=['CoinName','Algorithm','ProofType'], inplace=True,axis=1)\n",
    "\n",
    "t_crypto_scaled = StandardScaler().fit_transform(at_crypto_df_copy)\n",
    "print(t_crypto_scaled[0:10])\n",
    "\n",
    "t_crypto_scaled_df = pd.DataFrame(\n",
    "    data=t_crypto_scaled, columns=[\"TotalCoinsMined\",\"TotalCoinSupply\"], \n",
    "    index=coinname_df)\n",
    "\n",
    "t_crypto_scaled_df.head()"
   ]
  },
  {
   "cell_type": "code",
   "execution_count": 27,
   "metadata": {},
   "outputs": [
    {
     "data": {
      "text/html": [
       "\n",
       "<div id=\"altair-viz-d63d07db152346569b47df37af6e6ba2\"></div>\n",
       "<script type=\"text/javascript\">\n",
       "  (function(spec, embedOpt){\n",
       "    let outputDiv = document.currentScript.previousElementSibling;\n",
       "    if (outputDiv.id !== \"altair-viz-d63d07db152346569b47df37af6e6ba2\") {\n",
       "      outputDiv = document.getElementById(\"altair-viz-d63d07db152346569b47df37af6e6ba2\");\n",
       "    }\n",
       "    const paths = {\n",
       "      \"vega\": \"https://cdn.jsdelivr.net/npm//vega@5?noext\",\n",
       "      \"vega-lib\": \"https://cdn.jsdelivr.net/npm//vega-lib?noext\",\n",
       "      \"vega-lite\": \"https://cdn.jsdelivr.net/npm//vega-lite@4.8.1?noext\",\n",
       "      \"vega-embed\": \"https://cdn.jsdelivr.net/npm//vega-embed@6?noext\",\n",
       "    };\n",
       "\n",
       "    function loadScript(lib) {\n",
       "      return new Promise(function(resolve, reject) {\n",
       "        var s = document.createElement('script');\n",
       "        s.src = paths[lib];\n",
       "        s.async = true;\n",
       "        s.onload = () => resolve(paths[lib]);\n",
       "        s.onerror = () => reject(`Error loading script: ${paths[lib]}`);\n",
       "        document.getElementsByTagName(\"head\")[0].appendChild(s);\n",
       "      });\n",
       "    }\n",
       "\n",
       "    function showError(err) {\n",
       "      outputDiv.innerHTML = `<div class=\"error\" style=\"color:red;\">${err}</div>`;\n",
       "      throw err;\n",
       "    }\n",
       "\n",
       "    function displayChart(vegaEmbed) {\n",
       "      vegaEmbed(outputDiv, spec, embedOpt)\n",
       "        .catch(err => showError(`Javascript Error: ${err.message}<br>This usually means there's a typo in your chart specification. See the javascript console for the full traceback.`));\n",
       "    }\n",
       "\n",
       "    if(typeof define === \"function\" && define.amd) {\n",
       "      requirejs.config({paths});\n",
       "      require([\"vega-embed\"], displayChart, err => showError(`Error loading script: ${err.message}`));\n",
       "    } else if (typeof vegaEmbed === \"function\") {\n",
       "      displayChart(vegaEmbed);\n",
       "    } else {\n",
       "      loadScript(\"vega\")\n",
       "        .then(() => loadScript(\"vega-lite\"))\n",
       "        .then(() => loadScript(\"vega-embed\"))\n",
       "        .catch(showError)\n",
       "        .then(() => displayChart(vegaEmbed));\n",
       "    }\n",
       "  })({\"config\": {\"view\": {\"continuousWidth\": 400, \"continuousHeight\": 300}}, \"data\": {\"name\": \"data-3519061262aa41feff05689600d94726\"}, \"mark\": \"point\", \"encoding\": {\"x\": {\"type\": \"quantitative\", \"field\": \"TotalCoinsMined\"}, \"y\": {\"type\": \"quantitative\", \"field\": \"TotalCoinSupply\"}}, \"$schema\": \"https://vega.github.io/schema/vega-lite/v4.8.1.json\", \"datasets\": {\"data-3519061262aa41feff05689600d94726\": [{\"TotalCoinsMined\": -0.11710817041617713, \"TotalCoinSupply\": -0.1528702977047365}, {\"TotalCoinsMined\": -0.09396955218870565, \"TotalCoinSupply\": -0.14500899698779715}, {\"TotalCoinsMined\": 0.5249456089212046, \"TotalCoinSupply\": 4.489424162156249}, {\"TotalCoinsMined\": -0.11671505533074515, \"TotalCoinSupply\": -0.15255998379888258}, {\"TotalCoinsMined\": -0.11474681816369174, \"TotalCoinSupply\": -0.15287029832536556}, {\"TotalCoinsMined\": -0.11572581546825715, \"TotalCoinSupply\": -0.15162904021943371}, {\"TotalCoinsMined\": -0.11691012862392769, \"TotalCoinSupply\": -0.15254520691666912}, {\"TotalCoinsMined\": -0.11673097611823183, \"TotalCoinSupply\": -0.15287029832536556}, {\"TotalCoinsMined\": -0.1146223634096436, \"TotalCoinSupply\": -0.14976715306053592}, {\"TotalCoinsMined\": -0.11694627200901717, \"TotalCoinSupply\": -0.15255998379888258}, {\"TotalCoinsMined\": -0.05698966132416779, \"TotalCoinSupply\": -0.0996650921160009}, {\"TotalCoinsMined\": 0.13301307292751485, \"TotalCoinSupply\": 0.15744422815759837}, {\"TotalCoinsMined\": -0.11707990853044095, \"TotalCoinSupply\": -0.15254520691666912}, {\"TotalCoinsMined\": -0.11684513166998334, \"TotalCoinSupply\": -0.15268558729769713}, {\"TotalCoinsMined\": -0.11698168096760625, \"TotalCoinSupply\": -0.15255998379888258}, {\"TotalCoinsMined\": -0.1165480619175646, \"TotalCoinSupply\": -0.14769838955064948}, {\"TotalCoinsMined\": -0.11686367442665155, \"TotalCoinSupply\": -0.15257476068109607}, {\"TotalCoinsMined\": -0.11684051658618207, \"TotalCoinSupply\": -0.1519245778637032}, {\"TotalCoinsMined\": -0.11671049584812346, \"TotalCoinSupply\": -0.1526225109347108}, {\"TotalCoinsMined\": -0.10317428013809626, \"TotalCoinSupply\": -0.15287029832536556}, {\"TotalCoinsMined\": -0.08008729277739754, \"TotalCoinSupply\": -0.12331653389841661}, {\"TotalCoinsMined\": -0.11710816940746525, \"TotalCoinSupply\": 5.521452471648832}, {\"TotalCoinsMined\": -0.11337584485645781, \"TotalCoinSupply\": -0.1503612489211219}, {\"TotalCoinsMined\": -0.11428069005280515, \"TotalCoinSupply\": -0.14917607777199693}, {\"TotalCoinsMined\": -0.11694682595481672, \"TotalCoinSupply\": -0.1513926101040181}, {\"TotalCoinsMined\": -0.11440958904969226, \"TotalCoinSupply\": -0.15287029832536556}, {\"TotalCoinsMined\": -0.11141647277836332, \"TotalCoinSupply\": -0.14922040841863737}, {\"TotalCoinsMined\": -0.11602164532764307, \"TotalCoinSupply\": -0.15162904021943371}, {\"TotalCoinsMined\": -0.1163748168615894, \"TotalCoinSupply\": -0.15215855501667133}, {\"TotalCoinsMined\": -0.11710723763323387, \"TotalCoinSupply\": -0.15286290988425882}, {\"TotalCoinsMined\": -0.11694984853821777, \"TotalCoinSupply\": -0.15255998379888258}, {\"TotalCoinsMined\": -0.11708538507061239, \"TotalCoinSupply\": -0.1528555214431521}, {\"TotalCoinsMined\": -0.11700502232842343, \"TotalCoinSupply\": -0.1526761300930805}, {\"TotalCoinsMined\": -0.11699859493925305, \"TotalCoinSupply\": -0.15260431444552303}, {\"TotalCoinsMined\": 0.760031656641548, \"TotalCoinSupply\": 0.43820499021361337}, {\"TotalCoinsMined\": -0.11703570888692467, \"TotalCoinSupply\": -0.15280557558127053}, {\"TotalCoinsMined\": 0.2322024970149028, \"TotalCoinSupply\": 0.09176098671870435}, {\"TotalCoinsMined\": 0.2945743099040439, \"TotalCoinSupply\": 0.15744422815759837}, {\"TotalCoinsMined\": 0.1578535878235206, \"TotalCoinSupply\": 0.04661761155653983}, {\"TotalCoinsMined\": -0.11664963596164356, \"TotalCoinSupply\": -0.15255998379888258}, {\"TotalCoinsMined\": -0.11230863957205278, \"TotalCoinSupply\": -0.14844030048501156}, {\"TotalCoinsMined\": -0.11668063611355507, \"TotalCoinSupply\": -0.15239743809453438}, {\"TotalCoinsMined\": -0.11698362394209887, \"TotalCoinSupply\": -0.15287029832536556}, {\"TotalCoinsMined\": -0.10698093556065717, \"TotalCoinSupply\": -0.15287029832536556}, {\"TotalCoinsMined\": -0.11708311293846367, \"TotalCoinSupply\": -0.15270426804009193}, {\"TotalCoinsMined\": -0.11253237171965826, \"TotalCoinSupply\": -0.14790526590163813}, {\"TotalCoinsMined\": -0.09772062118149824, \"TotalCoinSupply\": -0.13187811738795813}, {\"TotalCoinsMined\": -0.11566806727154288, \"TotalCoinSupply\": -0.15183591657042234}, {\"TotalCoinsMined\": -0.11619465979199468, \"TotalCoinSupply\": -0.15180273212603554}, {\"TotalCoinsMined\": -0.11515068163362571, \"TotalCoinSupply\": -0.15109707245974863}, {\"TotalCoinsMined\": -0.08030074826059103, \"TotalCoinSupply\": -0.15287029832536556}, {\"TotalCoinsMined\": 1.8695205432265039, \"TotalCoinSupply\": 1.1859152302154217}, {\"TotalCoinsMined\": -0.11672111331986709, \"TotalCoinSupply\": -0.15254520691666912}, {\"TotalCoinsMined\": -0.1166457136071263, \"TotalCoinSupply\": -0.15255998379888258}, {\"TotalCoinsMined\": -0.11378715197565846, \"TotalCoinSupply\": -0.1489482064267594}, {\"TotalCoinsMined\": -0.1166843742023349, \"TotalCoinSupply\": -0.15257476068109607}, {\"TotalCoinsMined\": -0.11708395472785359, \"TotalCoinSupply\": -0.15285034953437737}, {\"TotalCoinsMined\": -0.11576075717552488, \"TotalCoinSupply\": -0.1513926101040181}, {\"TotalCoinsMined\": -0.11627155531292363, \"TotalCoinSupply\": -0.15224966927239963}, {\"TotalCoinsMined\": -0.11622156147717051, \"TotalCoinSupply\": -0.14991492188267067}, {\"TotalCoinsMined\": 0.34983561273957564, \"TotalCoinSupply\": -0.15287029832536556}, {\"TotalCoinsMined\": -0.1169808938466571, \"TotalCoinSupply\": -0.15272252950323081}, {\"TotalCoinsMined\": -0.08171917096979275, \"TotalCoinSupply\": -0.11712206487452811}, {\"TotalCoinsMined\": -0.11675336825280513, \"TotalCoinSupply\": -0.15263120837115154}, {\"TotalCoinsMined\": -0.11565898063436632, \"TotalCoinSupply\": -0.15287029832536556}, {\"TotalCoinsMined\": -0.0652238930241784, \"TotalCoinSupply\": 0.06878293487675154}, {\"TotalCoinsMined\": -0.11678502423133377, \"TotalCoinSupply\": -0.15255998379888258}, {\"TotalCoinsMined\": -0.1097685010739967, \"TotalCoinSupply\": -0.14789048901942467}, {\"TotalCoinsMined\": -0.11677581504469342, \"TotalCoinSupply\": -0.15287029832536556}, {\"TotalCoinsMined\": -0.11703754806217705, \"TotalCoinSupply\": -0.15281458947942075}, {\"TotalCoinsMined\": -0.1122251944145326, \"TotalCoinSupply\": -0.1466640077957063}, {\"TotalCoinsMined\": -0.11548635559214455, \"TotalCoinSupply\": -0.15142216386844506}, {\"TotalCoinsMined\": 0.5257381606520857, \"TotalCoinSupply\": -0.15287029832536556}, {\"TotalCoinsMined\": -0.11708395882426532, \"TotalCoinSupply\": -0.15255998379888258}, {\"TotalCoinsMined\": -0.11657716879300993, \"TotalCoinSupply\": -0.14917607777199693}, {\"TotalCoinsMined\": -0.11654693914457859, \"TotalCoinSupply\": -0.15211372195603567}, {\"TotalCoinsMined\": -0.11599622851951215, \"TotalCoinSupply\": -0.15287029832536556}, {\"TotalCoinsMined\": -0.11710814552733183, \"TotalCoinSupply\": -0.15287028354848334}, {\"TotalCoinsMined\": -0.10475504758004343, \"TotalCoinSupply\": -0.13974842691980022}, {\"TotalCoinsMined\": -0.11534817998455782, \"TotalCoinSupply\": -0.1513926101040181}, {\"TotalCoinsMined\": -0.11615347474115896, \"TotalCoinSupply\": -0.15217560801160593}, {\"TotalCoinsMined\": -0.08153298946646202, \"TotalCoinSupply\": -0.11888346923437428}, {\"TotalCoinsMined\": -0.11707677299655718, \"TotalCoinSupply\": -0.15272252950323081}, {\"TotalCoinsMined\": -0.11660523257067124, \"TotalCoinSupply\": -0.15224966927239963}, {\"TotalCoinsMined\": -0.11705821493132303, \"TotalCoinSupply\": -0.1516881477482876}, {\"TotalCoinsMined\": -0.1171037656435193, \"TotalCoinSupply\": -0.15286660410481218}, {\"TotalCoinsMined\": -0.11708169684324296, \"TotalCoinSupply\": -0.15287029832536556}, {\"TotalCoinsMined\": -0.09300979250969782, \"TotalCoinSupply\": -0.1292272867838064}, {\"TotalCoinsMined\": -0.11600658865132435, \"TotalCoinSupply\": -0.1513926101040181}, {\"TotalCoinsMined\": -0.11660050706355969, \"TotalCoinSupply\": -0.15253043003445566}, {\"TotalCoinsMined\": -0.11640599655163233, \"TotalCoinSupply\": -0.15287029832536556}, {\"TotalCoinsMined\": -0.11598600847878415, \"TotalCoinSupply\": -0.15162904021943371}, {\"TotalCoinsMined\": -0.11448537086877955, \"TotalCoinSupply\": -0.1489482064267594}, {\"TotalCoinsMined\": -0.1169557500570644, \"TotalCoinSupply\": -0.15278902547319145}, {\"TotalCoinsMined\": -0.114915321619201, \"TotalCoinSupply\": -0.15287029832536556}, {\"TotalCoinsMined\": -0.1162486676771144, \"TotalCoinSupply\": -0.15220533862575922}, {\"TotalCoinsMined\": -0.11638247567280184, \"TotalCoinSupply\": -0.15287029832536556}, {\"TotalCoinsMined\": -0.11386296782103908, \"TotalCoinSupply\": -0.13809341611189108}, {\"TotalCoinsMined\": 3.9192007651906473, \"TotalCoinSupply\": 2.5729833456368123}, {\"TotalCoinsMined\": 0.0343429155985986, \"TotalCoinSupply\": -0.005101476190620825}, {\"TotalCoinsMined\": -0.07735106213571614, \"TotalCoinSupply\": -0.12096977585882453}, {\"TotalCoinsMined\": -0.1159860211932916, \"TotalCoinSupply\": -0.14548185721862833}, {\"TotalCoinsMined\": -0.11561276460158866, \"TotalCoinSupply\": -0.15131695246708513}, {\"TotalCoinsMined\": -0.11625029138062813, \"TotalCoinSupply\": -0.1518654703348493}, {\"TotalCoinsMined\": -0.115941710564111, \"TotalCoinSupply\": -0.15287029832536556}, {\"TotalCoinsMined\": -0.1080071340857106, \"TotalCoinSupply\": -0.12804513620672844}, {\"TotalCoinsMined\": -0.11651205631628354, \"TotalCoinSupply\": -0.15287029832536556}, {\"TotalCoinsMined\": -0.11409261584019455, \"TotalCoinSupply\": -0.1504116320013944}, {\"TotalCoinsMined\": -0.11706382172160293, \"TotalCoinSupply\": -0.15269297573880386}, {\"TotalCoinsMined\": -0.11710418212155285, \"TotalCoinSupply\": -0.15283146467890854}, {\"TotalCoinsMined\": -0.11327844452030784, \"TotalCoinSupply\": -0.14548185721862833}, {\"TotalCoinsMined\": -0.11376910449222218, \"TotalCoinSupply\": -0.15050599717120963}, {\"TotalCoinsMined\": -0.11707598378994423, \"TotalCoinSupply\": -0.15287029832536556}, {\"TotalCoinsMined\": -0.11695254843281906, \"TotalCoinSupply\": -0.15272252950323081}, {\"TotalCoinsMined\": -0.09972902048572489, \"TotalCoinSupply\": -0.13809341611189108}, {\"TotalCoinsMined\": -0.10133243790091528, \"TotalCoinSupply\": -0.13809341611189108}, {\"TotalCoinsMined\": -0.11704918780231703, \"TotalCoinSupply\": -0.15257476068109607}, {\"TotalCoinsMined\": -0.11568033447790374, \"TotalCoinSupply\": -0.15287029832536556}, {\"TotalCoinsMined\": -0.11696859020300239, \"TotalCoinSupply\": -0.15287029832536556}, {\"TotalCoinsMined\": -0.1168858154012018, \"TotalCoinSupply\": -0.15282048047561464}, {\"TotalCoinsMined\": -0.11685369722352457, \"TotalCoinSupply\": -0.15257476068109607}, {\"TotalCoinsMined\": -0.016010329595867703, \"TotalCoinSupply\": -0.005101476190620825}, {\"TotalCoinsMined\": -0.1015716881115397, \"TotalCoinSupply\": -0.12568083505257252}, {\"TotalCoinsMined\": -0.1170945871155971, \"TotalCoinSupply\": -0.15286114437192572}, {\"TotalCoinsMined\": -0.11683488480965108, \"TotalCoinSupply\": -0.15255998379888258}, {\"TotalCoinsMined\": -0.11710623695865129, \"TotalCoinSupply\": 1.206602865314286}, {\"TotalCoinsMined\": -0.11707497808327808, \"TotalCoinSupply\": -0.15287029832536556}, {\"TotalCoinsMined\": -0.11571226416793419, \"TotalCoinSupply\": -0.15171770151271455}, {\"TotalCoinsMined\": -0.11640160062458464, \"TotalCoinSupply\": -0.15238266121232089}, {\"TotalCoinsMined\": -0.11680681374569837, \"TotalCoinSupply\": -0.15189814054373507}, {\"TotalCoinsMined\": -0.11678478740355984, \"TotalCoinSupply\": -0.15207589313756917}, {\"TotalCoinsMined\": -0.11692028713217426, \"TotalCoinSupply\": -0.15279552730136536}, {\"TotalCoinsMined\": -0.11676030122129472, \"TotalCoinSupply\": -0.15255998379888258}, {\"TotalCoinsMined\": -0.11710095247554203, \"TotalCoinSupply\": -0.15287029832536556}, {\"TotalCoinsMined\": -0.11639406324796626, \"TotalCoinSupply\": -0.1497636066088047}, {\"TotalCoinsMined\": -0.11545005898717706, \"TotalCoinSupply\": -0.14917607777199693}, {\"TotalCoinsMined\": -0.114915321619201, \"TotalCoinSupply\": -0.1513926101040181}, {\"TotalCoinsMined\": -0.11687802566314963, \"TotalCoinSupply\": -0.1526204744882423}, {\"TotalCoinsMined\": -0.1166028816603456, \"TotalCoinSupply\": -0.15213145421469185}, {\"TotalCoinsMined\": 0.6086877307744714, \"TotalCoinSupply\": -0.15287029832536556}, {\"TotalCoinsMined\": -0.11616393474823711, \"TotalCoinSupply\": -0.13809341611189108}, {\"TotalCoinsMined\": -0.11681146656891919, \"TotalCoinSupply\": -0.1524816958769156}, {\"TotalCoinsMined\": -0.11676021663211684, \"TotalCoinSupply\": -0.15263386820994995}, {\"TotalCoinsMined\": -0.11664772822495711, \"TotalCoinSupply\": -0.15255998379888258}, {\"TotalCoinsMined\": -0.11688088143484104, \"TotalCoinSupply\": -0.15255998379888258}, {\"TotalCoinsMined\": -0.11250318692943179, \"TotalCoinSupply\": -0.14976715306053592}, {\"TotalCoinsMined\": -0.11685711309131575, \"TotalCoinSupply\": -0.15165915402769653}, {\"TotalCoinsMined\": -0.11702770050990065, \"TotalCoinSupply\": -0.15254520691666912}, {\"TotalCoinsMined\": 0.12402455908405352, \"TotalCoinSupply\": 0.2394559244423817}, {\"TotalCoinsMined\": -0.11557677061528035, \"TotalCoinSupply\": -0.15162904021943371}, {\"TotalCoinsMined\": -0.11699569976813926, \"TotalCoinSupply\": -0.15271514106212408}, {\"TotalCoinsMined\": 0.35961674179509745, \"TotalCoinSupply\": 0.16669869395025316}, {\"TotalCoinsMined\": 0.10369971336073396, \"TotalCoinSupply\": -0.15287029832536556}, {\"TotalCoinsMined\": -0.11691084242138752, \"TotalCoinSupply\": -0.15224966927239963}, {\"TotalCoinsMined\": -0.11622057063583259, \"TotalCoinSupply\": -0.14960382961932303}, {\"TotalCoinsMined\": -0.11611896972456275, \"TotalCoinSupply\": -0.15162904021943371}, {\"TotalCoinsMined\": -0.11698313399368637, \"TotalCoinSupply\": -0.15242699185896133}, {\"TotalCoinsMined\": -0.1170942146697247, \"TotalCoinSupply\": -0.15038259099478024}, {\"TotalCoinsMined\": -0.11672961190574299, \"TotalCoinSupply\": -0.15251565315224216}, {\"TotalCoinsMined\": -0.11687995555097416, \"TotalCoinSupply\": -0.14719597555539135}, {\"TotalCoinsMined\": 0.6936154740460067, \"TotalCoinSupply\": 1.3100410408086074}, {\"TotalCoinsMined\": -0.1170121885154428, \"TotalCoinSupply\": -0.1522792230368266}, {\"TotalCoinsMined\": -0.07001708224043848, \"TotalCoinSupply\": -0.12113718541828396}, {\"TotalCoinsMined\": -0.1166696013935786, \"TotalCoinSupply\": -0.15257476068109607}, {\"TotalCoinsMined\": -0.1169640834000029, \"TotalCoinSupply\": -0.15257476068109607}, {\"TotalCoinsMined\": -0.11680875782760641, \"TotalCoinSupply\": -0.1525008762700287}, {\"TotalCoinsMined\": -0.11415758368962174, \"TotalCoinSupply\": -0.15176203215935496}, {\"TotalCoinsMined\": -0.11708195527058222, \"TotalCoinSupply\": -0.14957911723436945}, {\"TotalCoinsMined\": -0.11674278073579682, \"TotalCoinSupply\": -0.14511243516329145}, {\"TotalCoinsMined\": -0.115278229410341, \"TotalCoinSupply\": -0.15154037892615285}, {\"TotalCoinsMined\": -0.11657338518923123, \"TotalCoinSupply\": -0.1508163116976926}, {\"TotalCoinsMined\": -0.11709465355894356, \"TotalCoinSupply\": -0.15286118914587882}, {\"TotalCoinsMined\": -0.11626195482667886, \"TotalCoinSupply\": -0.15237527277121415}, {\"TotalCoinsMined\": -0.09927827828386436, \"TotalCoinSupply\": -0.12331653389841661}, {\"TotalCoinsMined\": -0.1170089158541045, \"TotalCoinSupply\": -0.15221518988549382}, {\"TotalCoinsMined\": -0.114915321619201, \"TotalCoinSupply\": -0.1513926101040181}, {\"TotalCoinsMined\": -0.1169985288512744, \"TotalCoinSupply\": -0.14991492188267067}, {\"TotalCoinsMined\": -0.11707795568812461, \"TotalCoinSupply\": -0.1525008762700287}, {\"TotalCoinsMined\": -0.1027011486900969, \"TotalCoinSupply\": -0.14316188671111282}, {\"TotalCoinsMined\": -0.11456669949840467, \"TotalCoinSupply\": -0.14991492188267067}, {\"TotalCoinsMined\": -0.11676687899198698, \"TotalCoinSupply\": -0.15213145421469185}, {\"TotalCoinsMined\": -0.1161616167921618, \"TotalCoinSupply\": -0.15154037892615285}, {\"TotalCoinsMined\": -0.1169366371432375, \"TotalCoinSupply\": -0.15272252950323081}, {\"TotalCoinsMined\": -0.11709511447402578, \"TotalCoinSupply\": -0.15255998379888258}, {\"TotalCoinsMined\": -0.11697125330934238, \"TotalCoinSupply\": -0.15272643060013516}, {\"TotalCoinsMined\": -0.11709375036042546, \"TotalCoinSupply\": -0.15282596767872514}, {\"TotalCoinsMined\": -0.11705155261530989, \"TotalCoinSupply\": -0.15255998379888258}, {\"TotalCoinsMined\": -0.09517967415745292, \"TotalCoinSupply\": -0.13513803966919619}, {\"TotalCoinsMined\": -0.11706563248670754, \"TotalCoinSupply\": -0.15287029832536556}, {\"TotalCoinsMined\": -0.11454593108451125, \"TotalCoinSupply\": -0.14991492188267067}, {\"TotalCoinsMined\": -0.11338912856453258, \"TotalCoinSupply\": -0.15287029832536556}, {\"TotalCoinsMined\": -0.11690847478490748, \"TotalCoinSupply\": -0.1527130974488677}, {\"TotalCoinsMined\": -0.10252133376329886, \"TotalCoinSupply\": -0.10706196346359469}, {\"TotalCoinsMined\": -0.11686434399133226, \"TotalCoinSupply\": -0.15242699185896133}, {\"TotalCoinsMined\": 0.31220328135696845, \"TotalCoinSupply\": 0.14266734594412392}, {\"TotalCoinsMined\": -0.1154847212136656, \"TotalCoinSupply\": -0.15177680904156846}, {\"TotalCoinsMined\": -0.11637306326914262, \"TotalCoinSupply\": -0.15287029832536556}, {\"TotalCoinsMined\": -0.11130417051105836, \"TotalCoinSupply\": -0.13070497500515385}, {\"TotalCoinsMined\": -0.11694221030313669, \"TotalCoinSupply\": -0.1525540730459972}, {\"TotalCoinsMined\": -0.11384703505694005, \"TotalCoinSupply\": -0.15227922454406856}, {\"TotalCoinsMined\": -0.11705334737509006, \"TotalCoinSupply\": -0.15283335428749847}, {\"TotalCoinsMined\": -0.114915321619201, \"TotalCoinSupply\": -0.1513926101040181}, {\"TotalCoinsMined\": -0.11671743441556272, \"TotalCoinSupply\": -0.14842245677910973}, {\"TotalCoinsMined\": -0.09337797103580517, \"TotalCoinSupply\": -0.04195502043102616}, {\"TotalCoinsMined\": -0.11653352324911846, \"TotalCoinSupply\": -0.15248306216222193}, {\"TotalCoinsMined\": -0.11698507462182979, \"TotalCoinSupply\": -0.15255998379888258}, {\"TotalCoinsMined\": -0.11473546224333916, \"TotalCoinSupply\": -0.15102318804868126}, {\"TotalCoinsMined\": -0.11670594101403438, \"TotalCoinSupply\": -0.15242699185896133}, {\"TotalCoinsMined\": -0.11280365183371473, \"TotalCoinSupply\": -0.005101476190620825}, {\"TotalCoinsMined\": -0.09903908966108364, \"TotalCoinSupply\": -0.14548185721862833}, {\"TotalCoinsMined\": 1.9045418817345672, \"TotalCoinSupply\": -0.14030994844391226}, {\"TotalCoinsMined\": -0.11702367367180942, \"TotalCoinSupply\": -0.1528133581694507}, {\"TotalCoinsMined\": -0.116011746478187, \"TotalCoinSupply\": -0.15213145421469185}, {\"TotalCoinsMined\": -0.11673342209177046, \"TotalCoinSupply\": -0.15230079728485826}, {\"TotalCoinsMined\": -0.1170544557857294, \"TotalCoinSupply\": -0.15224966927239963}, {\"TotalCoinsMined\": -0.11576253320836845, \"TotalCoinSupply\": -0.14950116918069337}, {\"TotalCoinsMined\": -0.1166696013935786, \"TotalCoinSupply\": -0.15257476068109607}, {\"TotalCoinsMined\": -0.11697507671656047, \"TotalCoinSupply\": -0.15198368539255708}, {\"TotalCoinsMined\": -0.11683589496780217, \"TotalCoinSupply\": -0.15257476068109607}, {\"TotalCoinsMined\": -0.11666425032186112, \"TotalCoinSupply\": -0.15238266121232089}, {\"TotalCoinsMined\": -0.1154505881437425, \"TotalCoinSupply\": -0.15173986683603477}, {\"TotalCoinsMined\": -0.11686518774778062, \"TotalCoinSupply\": -0.15245654562338828}, {\"TotalCoinsMined\": -0.11686883455284172, \"TotalCoinSupply\": -0.14325557461208557}, {\"TotalCoinsMined\": -0.11709030682644711, \"TotalCoinSupply\": -0.15279641391429818}, {\"TotalCoinsMined\": -0.11708672208729914, \"TotalCoinSupply\": -0.15255998379888258}, {\"TotalCoinsMined\": -0.11692445717272046, \"TotalCoinSupply\": -0.15074242728662524}, {\"TotalCoinsMined\": 0.6243632575973771, \"TotalCoinSupply\": 0.3275987988572912}, {\"TotalCoinsMined\": -0.11703201403925229, \"TotalCoinSupply\": -0.1526781988565904}, {\"TotalCoinsMined\": -0.11703546106743795, \"TotalCoinSupply\": -0.15282130130186783}, {\"TotalCoinsMined\": -0.11687753238732526, \"TotalCoinSupply\": -0.15264864509216344}, {\"TotalCoinsMined\": -0.11644532220654873, \"TotalCoinSupply\": -0.15170535986068986}, {\"TotalCoinsMined\": -0.11708856669055341, \"TotalCoinSupply\": -0.15283018964084988}, {\"TotalCoinsMined\": -0.11690298445935461, \"TotalCoinSupply\": -0.1525008762700287}, {\"TotalCoinsMined\": -0.11706703026517587, \"TotalCoinSupply\": -0.1527225295180077}, {\"TotalCoinsMined\": -0.11658264674486006, \"TotalCoinSupply\": -0.14548185721862833}, {\"TotalCoinsMined\": -0.11705277823245265, \"TotalCoinSupply\": -0.15255998379888258}, {\"TotalCoinsMined\": -0.11698407584550535, \"TotalCoinSupply\": -0.1527320753691407}, {\"TotalCoinsMined\": -0.11684893860806558, \"TotalCoinSupply\": -0.15257476068109607}, {\"TotalCoinsMined\": -0.10533296144190375, \"TotalCoinSupply\": 1.3248179230220818}, {\"TotalCoinsMined\": -0.11710141343484065, \"TotalCoinSupply\": -0.15254619204707565}, {\"TotalCoinsMined\": -0.11686763066687895, \"TotalCoinSupply\": -0.15013657511587278}, {\"TotalCoinsMined\": -0.11704408280510056, \"TotalCoinSupply\": -0.15205756980362445}, {\"TotalCoinsMined\": -0.1146960366474038, \"TotalCoinSupply\": -0.15124484128188337}, {\"TotalCoinsMined\": -0.1170398584109059, \"TotalCoinSupply\": -0.1528206480011283}, {\"TotalCoinsMined\": -0.11678966317239876, \"TotalCoinSupply\": -0.1526556663058375}, {\"TotalCoinsMined\": -0.11644186210897874, \"TotalCoinSupply\": -0.13809341611189108}, {\"TotalCoinsMined\": -0.11695638986915205, \"TotalCoinSupply\": -0.1526190913277365}, {\"TotalCoinsMined\": -0.09517967415745292, \"TotalCoinSupply\": -0.13809341611189108}, {\"TotalCoinsMined\": -0.11491875543950528, \"TotalCoinSupply\": -0.1513926101040181}, {\"TotalCoinsMined\": -0.11670149074613848, \"TotalCoinSupply\": -0.15255998379888258}, {\"TotalCoinsMined\": -0.11631764100994263, \"TotalCoinSupply\": -0.15236158312766332}, {\"TotalCoinsMined\": -0.11705920717389191, \"TotalCoinSupply\": -0.15283730301029422}, {\"TotalCoinsMined\": -0.11681953203096761, \"TotalCoinSupply\": -0.1513926101040181}, {\"TotalCoinsMined\": -0.11684099023117585, \"TotalCoinSupply\": -0.15232503137168835}, {\"TotalCoinsMined\": -0.11468221318920262, \"TotalCoinSupply\": -0.15124484128188337}, {\"TotalCoinsMined\": -0.11570264124165981, \"TotalCoinSupply\": -0.09376276947146767}, {\"TotalCoinsMined\": -0.11467112945138674, \"TotalCoinSupply\": -0.151240555542735}, {\"TotalCoinsMined\": -0.11663624108817475, \"TotalCoinSupply\": -0.1513926101040181}, {\"TotalCoinsMined\": -0.11688618477452327, \"TotalCoinSupply\": -0.15215728420480099}, {\"TotalCoinsMined\": -0.10830560327746522, \"TotalCoinSupply\": -0.14695954543997578}, {\"TotalCoinsMined\": -0.1144402308239309, \"TotalCoinSupply\": -0.14548185721862833}, {\"TotalCoinsMined\": -0.1169904386830959, \"TotalCoinSupply\": -0.1525568493118506}, {\"TotalCoinsMined\": -0.1170829903175776, \"TotalCoinSupply\": -0.15244767949406018}, {\"TotalCoinsMined\": -0.11709720708858315, \"TotalCoinSupply\": -0.13809341611189108}, {\"TotalCoinsMined\": -0.11490335425150765, \"TotalCoinSupply\": 0.95539586768522}, {\"TotalCoinsMined\": -0.11673162873541411, \"TotalCoinSupply\": -0.1522792230368266}, {\"TotalCoinsMined\": -0.11666354695422272, \"TotalCoinSupply\": -0.15234541755839007}, {\"TotalCoinsMined\": -0.11063629409542118, \"TotalCoinSupply\": -0.12331653389841661}, {\"TotalCoinsMined\": -0.0882119489998398, \"TotalCoinSupply\": -0.11592809279167937}, {\"TotalCoinsMined\": -0.11685840079901968, \"TotalCoinSupply\": -0.15242699185896133}, {\"TotalCoinsMined\": -0.1166398057410367, \"TotalCoinSupply\": -0.15131872569295074}, {\"TotalCoinsMined\": 0.7744830340630099, \"TotalCoinSupply\": 1.1770491008873372}, {\"TotalCoinsMined\": -0.11688136241292298, \"TotalCoinSupply\": -0.14991367766918828}, {\"TotalCoinsMined\": -0.11680833408278019, \"TotalCoinSupply\": -0.15180636280599538}, {\"TotalCoinsMined\": -0.114915321619201, \"TotalCoinSupply\": -0.1513926101040181}, {\"TotalCoinsMined\": -0.11559431523672915, \"TotalCoinSupply\": -0.15131872569295074}, {\"TotalCoinsMined\": 0.3829028528918584, \"TotalCoinSupply\": 0.5859738123483581}, {\"TotalCoinsMined\": -0.1166743330227046, \"TotalCoinSupply\": -0.15287029832536556}, {\"TotalCoinsMined\": -0.114186236432206, \"TotalCoinSupply\": -0.14784198586888425}, {\"TotalCoinsMined\": -0.11670452780816251, \"TotalCoinSupply\": -0.15242699185896133}, {\"TotalCoinsMined\": -0.07742927619510133, \"TotalCoinSupply\": -0.12331653389841661}, {\"TotalCoinsMined\": -0.11701669919875048, \"TotalCoinSupply\": -0.15272252950323081}, {\"TotalCoinsMined\": -0.11633762642298726, \"TotalCoinSupply\": -0.1513926101040181}, {\"TotalCoinsMined\": -0.11572794622304977, \"TotalCoinSupply\": -0.15109707245974863}, {\"TotalCoinsMined\": -0.1169589619042462, \"TotalCoinSupply\": -0.1513926101040181}, {\"TotalCoinsMined\": -0.11671053762175619, \"TotalCoinSupply\": -0.15258544732231286}, {\"TotalCoinsMined\": -0.11664179404173297, \"TotalCoinSupply\": -0.15242699185896133}, {\"TotalCoinsMined\": -0.11699484979766007, \"TotalCoinSupply\": -0.15176203215935496}, {\"TotalCoinsMined\": -0.11653710142345426, \"TotalCoinSupply\": -0.15198368539255708}, {\"TotalCoinsMined\": -0.11705065538891928, \"TotalCoinSupply\": -0.15259101525153088}, {\"TotalCoinsMined\": 0.08123357134248162, \"TotalCoinSupply\": 0.5859738123483581}, {\"TotalCoinsMined\": -0.11679762428002775, \"TotalCoinSupply\": -0.15207234668583794}, {\"TotalCoinsMined\": -0.1166275640686914, \"TotalCoinSupply\": -0.15259104203283216}, {\"TotalCoinsMined\": -0.11671780318720616, \"TotalCoinSupply\": -0.15255998379888258}, {\"TotalCoinsMined\": 3.458445074330562, \"TotalCoinSupply\": 2.802506144369529}, {\"TotalCoinsMined\": -0.06796620852871896, \"TotalCoinSupply\": -0.07898588725799319}, {\"TotalCoinsMined\": -0.11474049084245543, \"TotalCoinSupply\": -0.15083847702101283}, {\"TotalCoinsMined\": -0.11442246464615911, \"TotalCoinSupply\": -0.13661572789054363}, {\"TotalCoinsMined\": -0.11607025604003575, \"TotalCoinSupply\": -0.1513926101040181}, {\"TotalCoinsMined\": -0.11671355510035339, \"TotalCoinSupply\": -0.15255998379888258}, {\"TotalCoinsMined\": -0.11683254629910268, \"TotalCoinSupply\": -0.15272981050162698}, {\"TotalCoinsMined\": -0.11669891327389162, \"TotalCoinSupply\": -0.15261309352132588}, {\"TotalCoinsMined\": 1.0989308243267526, \"TotalCoinSupply\": 1.1284720875987835}, {\"TotalCoinsMined\": -0.11709753132334244, \"TotalCoinSupply\": 0.0022869649161164113}, {\"TotalCoinsMined\": -0.11702045734845412, \"TotalCoinSupply\": -0.15196004289820642}, {\"TotalCoinsMined\": 3.018813182774573, \"TotalCoinSupply\": -0.15287029832536556}, {\"TotalCoinsMined\": -0.11689537627954412, \"TotalCoinSupply\": -0.15257476068109607}, {\"TotalCoinsMined\": -0.11672543684258616, \"TotalCoinSupply\": -0.15162904021943371}, {\"TotalCoinsMined\": -0.11639227758713014, \"TotalCoinSupply\": -0.1513926101040181}, {\"TotalCoinsMined\": -0.11636881859187205, \"TotalCoinSupply\": -0.1513926101040181}, {\"TotalCoinsMined\": -0.11667969753682211, \"TotalCoinSupply\": -0.15215728420480099}, {\"TotalCoinsMined\": -0.11701607164901819, \"TotalCoinSupply\": -0.15280823542006897}, {\"TotalCoinsMined\": -0.11691198468209457, \"TotalCoinSupply\": -0.15155679769730282}, {\"TotalCoinsMined\": -0.11655995890768, \"TotalCoinSupply\": -0.15151985463471}, {\"TotalCoinsMined\": 0.4514335218337639, \"TotalCoinSupply\": 0.5120894012809858}, {\"TotalCoinsMined\": -0.1169489177744628, \"TotalCoinSupply\": -0.15247132250560175}, {\"TotalCoinsMined\": -0.002826640416826952, \"TotalCoinSupply\": 0.15744422815759837}, {\"TotalCoinsMined\": -0.11310318569786441, \"TotalCoinSupply\": -0.14695954543997578}, {\"TotalCoinsMined\": -0.05783860842554216, \"TotalCoinSupply\": -0.12627191034111152}, {\"TotalCoinsMined\": -0.11708315673476707, \"TotalCoinSupply\": -0.1526378087167992}, {\"TotalCoinsMined\": -0.1170168179289539, \"TotalCoinSupply\": -0.15247132250560175}, {\"TotalCoinsMined\": -0.11658188740485972, \"TotalCoinSupply\": -0.15251565315224216}, {\"TotalCoinsMined\": -0.11673094941054847, \"TotalCoinSupply\": -0.15255998379888258}, {\"TotalCoinsMined\": 0.9455352337010895, \"TotalCoinSupply\": 0.21655175701149626}, {\"TotalCoinsMined\": -0.11508963562898203, \"TotalCoinSupply\": -0.1513926101040181}, {\"TotalCoinsMined\": -0.1048158623483482, \"TotalCoinSupply\": -0.13513803966919619}, {\"TotalCoinsMined\": -0.11692603816654178, \"TotalCoinSupply\": -0.15198368539255708}, {\"TotalCoinsMined\": -0.1163628879420958, \"TotalCoinSupply\": -0.15056057214693686}, {\"TotalCoinsMined\": -0.11706103190992773, \"TotalCoinSupply\": -0.15255998379888258}, {\"TotalCoinsMined\": -0.11643471318800412, \"TotalCoinSupply\": -0.14991492188267067}, {\"TotalCoinsMined\": -0.11491554087142332, \"TotalCoinSupply\": -0.1513926101040181}, {\"TotalCoinsMined\": -0.1168377752858864, \"TotalCoinSupply\": -0.15255998379888258}, {\"TotalCoinsMined\": -0.1167493653154629, \"TotalCoinSupply\": -0.1526517737129062}, {\"TotalCoinsMined\": 0.08024830306102286, \"TotalCoinSupply\": -0.019878358404095298}, {\"TotalCoinsMined\": -0.11326595086724928, \"TotalCoinSupply\": -0.14769838955064948}, {\"TotalCoinsMined\": -0.11696837148729439, \"TotalCoinSupply\": -0.15220533862575922}, {\"TotalCoinsMined\": -0.11682844337939004, \"TotalCoinSupply\": -0.1487327713055927}, {\"TotalCoinsMined\": -0.1169802776123133, \"TotalCoinSupply\": -0.15240039347097706}, {\"TotalCoinsMined\": -0.11627053355808176, \"TotalCoinSupply\": -0.15074242728662524}, {\"TotalCoinsMined\": -0.11079077814037934, \"TotalCoinSupply\": -0.14548185721862833}, {\"TotalCoinsMined\": 0.5056425139054023, \"TotalCoinSupply\": 0.29043616807886863}, {\"TotalCoinsMined\": -0.1130835459899942, \"TotalCoinSupply\": -0.14976715306053592}, {\"TotalCoinsMined\": -0.10654454396684164, \"TotalCoinSupply\": -0.1431175560644724}, {\"TotalCoinsMined\": -0.11467461300358127, \"TotalCoinSupply\": -0.14976715306053592}, {\"TotalCoinsMined\": 0.3057131951484616, \"TotalCoinSupply\": 1.1031646898199647}, {\"TotalCoinsMined\": -0.11700949309986426, \"TotalCoinSupply\": -0.15268558729769713}, {\"TotalCoinsMined\": -0.10568579740850363, \"TotalCoinSupply\": -0.005101476190620825}, {\"TotalCoinsMined\": -0.1168176806124477, \"TotalCoinSupply\": -0.15246074046993416}, {\"TotalCoinsMined\": -0.11673635689433809, \"TotalCoinSupply\": -0.15257476068109607}, {\"TotalCoinsMined\": -0.11534695761848769, \"TotalCoinSupply\": -0.1447430131079546}, {\"TotalCoinsMined\": -0.10743221683901463, \"TotalCoinSupply\": -0.13810107768888866}, {\"TotalCoinsMined\": -0.009406351531221343, \"TotalCoinSupply\": 0.5859738123483581}, {\"TotalCoinsMined\": -0.11692354649712203, \"TotalCoinSupply\": -0.15065376599334437}, {\"TotalCoinsMined\": -0.030179195431456925, \"TotalCoinSupply\": -0.07898588727277008}, {\"TotalCoinsMined\": -0.11611756871051267, \"TotalCoinSupply\": -0.15213145421469185}, {\"TotalCoinsMined\": 0.5427131059586002, \"TotalCoinSupply\": 1.1770491008873372}, {\"TotalCoinsMined\": -0.11701543483440954, \"TotalCoinSupply\": -0.15257771605753875}, {\"TotalCoinsMined\": -0.116936089268306, \"TotalCoinSupply\": -0.15255998379888258}, {\"TotalCoinsMined\": -0.11650953038128574, \"TotalCoinSupply\": -0.15109707245974863}, {\"TotalCoinsMined\": -0.11053405277032664, \"TotalCoinSupply\": -0.14548185721862833}, {\"TotalCoinsMined\": -0.11611079641799973, \"TotalCoinSupply\": -0.1519245778637032}, {\"TotalCoinsMined\": -0.10414793067450459, \"TotalCoinSupply\": -0.13957110433323852}, {\"TotalCoinsMined\": -0.11705325171799183, \"TotalCoinSupply\": -0.15281119079651165}, {\"TotalCoinsMined\": -0.11701152692412069, \"TotalCoinSupply\": -0.15255998379888258}, {\"TotalCoinsMined\": -0.11692225925007052, \"TotalCoinSupply\": -0.15253043003445566}, {\"TotalCoinsMined\": -0.11666596126304676, \"TotalCoinSupply\": -0.15257230771864863}, {\"TotalCoinsMined\": -0.11684685846874626, \"TotalCoinSupply\": -0.15253043003445566}, {\"TotalCoinsMined\": -0.11665982432017842, \"TotalCoinSupply\": -0.1525008762700287}, {\"TotalCoinsMined\": -0.11707269030509582, \"TotalCoinSupply\": -0.15284638884230703}, {\"TotalCoinsMined\": -0.1169020578810478, \"TotalCoinSupply\": -0.15242699185896133}, {\"TotalCoinsMined\": 1.048168555278773, \"TotalCoinSupply\": 14.624011915149108}, {\"TotalCoinsMined\": -0.11700251240423082, \"TotalCoinSupply\": -0.15262500208062188}, {\"TotalCoinsMined\": -0.11195834566030118, \"TotalCoinSupply\": -0.1494420616518395}, {\"TotalCoinsMined\": -0.11417123359531553, \"TotalCoinSupply\": -0.14790526590163813}, {\"TotalCoinsMined\": 0.10217680046002793, \"TotalCoinSupply\": -0.005101476190620825}, {\"TotalCoinsMined\": -0.11475468954377005, \"TotalCoinSupply\": -0.1513926101040181}, {\"TotalCoinsMined\": -0.1029906945066507, \"TotalCoinSupply\": -0.13661572789054363}, {\"TotalCoinsMined\": -0.11205806200981794, \"TotalCoinSupply\": -0.14104879255458597}, {\"TotalCoinsMined\": -0.07824886678324425, \"TotalCoinSupply\": -0.0760305108152983}, {\"TotalCoinsMined\": -0.10310940616575547, \"TotalCoinSupply\": -0.140457717266047}, {\"TotalCoinsMined\": -0.11683524706836353, \"TotalCoinSupply\": -0.1522792230368266}, {\"TotalCoinsMined\": 0.20065799752500868, \"TotalCoinSupply\": 0.11912747467611365}, {\"TotalCoinsMined\": -0.11247473166723365, \"TotalCoinSupply\": -0.14548185721862833}, {\"TotalCoinsMined\": -0.11686144631173752, \"TotalCoinSupply\": -0.15258450464588894}, {\"TotalCoinsMined\": -0.11262425330714963, \"TotalCoinSupply\": -0.14913971482024602}, {\"TotalCoinsMined\": -0.11706063414672453, \"TotalCoinSupply\": -0.1525008762700287}, {\"TotalCoinsMined\": -0.11709897725818515, \"TotalCoinSupply\": -0.15198368539255708}, {\"TotalCoinsMined\": -0.1165474593762611, \"TotalCoinSupply\": -0.15103796493089472}, {\"TotalCoinsMined\": -0.10283603909943581, \"TotalCoinSupply\": -0.13809341611189108}, {\"TotalCoinsMined\": -0.11167840235989893, \"TotalCoinSupply\": -0.05682056393778148}, {\"TotalCoinsMined\": -0.11535281524843571, \"TotalCoinSupply\": -0.13809341611189108}, {\"TotalCoinsMined\": -0.11701891770153619, \"TotalCoinSupply\": -0.15255998379888258}, {\"TotalCoinsMined\": -0.11655995890768, \"TotalCoinSupply\": -0.1525008762700287}, {\"TotalCoinsMined\": -0.11680582440585338, \"TotalCoinSupply\": -0.15213145421469185}, {\"TotalCoinsMined\": -0.11708962777076516, \"TotalCoinSupply\": -0.15282596767872514}, {\"TotalCoinsMined\": -0.11708224848748226, \"TotalCoinSupply\": -0.15279641391429818}, {\"TotalCoinsMined\": -0.11554345296102092, \"TotalCoinSupply\": -0.15183591657042234}, {\"TotalCoinsMined\": -0.11124673499600861, \"TotalCoinSupply\": -0.14548185721862833}, {\"TotalCoinsMined\": -0.11650863522381642, \"TotalCoinSupply\": -0.14843723366132322}, {\"TotalCoinsMined\": -0.11689319111879451, \"TotalCoinSupply\": -0.15255998379888258}, {\"TotalCoinsMined\": -0.1166284506640644, \"TotalCoinSupply\": -0.1515699326905798}, {\"TotalCoinsMined\": -0.11689150676877902, \"TotalCoinSupply\": -0.15242699185896133}, {\"TotalCoinsMined\": -0.11708117413365568, \"TotalCoinSupply\": -0.1513926101040181}, {\"TotalCoinsMined\": -0.11641081308522762, \"TotalCoinSupply\": -0.1513926101040181}, {\"TotalCoinsMined\": -0.11404389198928055, \"TotalCoinSupply\": -0.14991492188267067}, {\"TotalCoinsMined\": -0.11686530765902998, \"TotalCoinSupply\": -0.1516881477482876}, {\"TotalCoinsMined\": -0.11675694558012105, \"TotalCoinSupply\": -0.15259840369263764}, {\"TotalCoinsMined\": -0.11701160262129295, \"TotalCoinSupply\": -0.15220533862575922}, {\"TotalCoinsMined\": -0.08631710691252097, \"TotalCoinSupply\": -0.07718382844426368}, {\"TotalCoinsMined\": -0.11664615223730176, \"TotalCoinSupply\": -0.15255998379888258}, {\"TotalCoinsMined\": -0.11699638666272721, \"TotalCoinSupply\": -0.15248196186079543}, {\"TotalCoinsMined\": -0.11686904188475757, \"TotalCoinSupply\": -0.15255998379888258}, {\"TotalCoinsMined\": -0.11709072837987688, \"TotalCoinSupply\": -0.15260431444552303}, {\"TotalCoinsMined\": -0.11625938917495014, \"TotalCoinSupply\": -0.1524860993878152}, {\"TotalCoinsMined\": -0.11695497009096076, \"TotalCoinSupply\": -0.15271514106212408}, {\"TotalCoinsMined\": -0.11710632276486076, \"TotalCoinSupply\": -0.14400416134285587}, {\"TotalCoinsMined\": -0.1166881609718796, \"TotalCoinSupply\": -0.15065376599334437}, {\"TotalCoinsMined\": 0.7884185943935064, \"TotalCoinSupply\": 2.5660760289539377}, {\"TotalCoinsMined\": 0.10656249989597195, \"TotalCoinSupply\": -0.0021460997479259307}, {\"TotalCoinsMined\": -0.11694085690335404, \"TotalCoinSupply\": -0.15222011550797268}, {\"TotalCoinsMined\": -0.11412891273021214, \"TotalCoinSupply\": -0.15038778211350184}, {\"TotalCoinsMined\": -0.11637930791915331, \"TotalCoinSupply\": -0.1513926101040181}, {\"TotalCoinsMined\": -0.10482632810946707, \"TotalCoinSupply\": -0.13809341611189108}, {\"TotalCoinsMined\": -0.11663453027807419, \"TotalCoinSupply\": -0.15162904021943371}, {\"TotalCoinsMined\": -0.11644408442250247, \"TotalCoinSupply\": -0.15154037892615285}, {\"TotalCoinsMined\": 1.5905090721007824, \"TotalCoinSupply\": 1.206602865314286}, {\"TotalCoinsMined\": -0.11704860772881115, \"TotalCoinSupply\": -0.14326532488660715}, {\"TotalCoinsMined\": -0.11584046296476821, \"TotalCoinSupply\": -0.15138873553161733}, {\"TotalCoinsMined\": -0.11670918373441182, \"TotalCoinSupply\": -0.15260310560789667}, {\"TotalCoinsMined\": -0.11692998332897775, \"TotalCoinSupply\": -0.15254408830668556}, {\"TotalCoinsMined\": -0.11691859057240568, \"TotalCoinSupply\": -0.15255998379888258}, {\"TotalCoinsMined\": -0.11699868167760756, \"TotalCoinSupply\": -0.15255998379888258}, {\"TotalCoinsMined\": -0.11629850279077787, \"TotalCoinSupply\": -0.15165051747201053}, {\"TotalCoinsMined\": -0.11695286511874924, \"TotalCoinSupply\": -0.15255998379888258}, {\"TotalCoinsMined\": -0.11697836582248708, \"TotalCoinSupply\": -0.15279418260508396}, {\"TotalCoinsMined\": -0.11708532157005201, \"TotalCoinSupply\": 0.09656347343808355}, {\"TotalCoinsMined\": -0.11681580706224737, \"TotalCoinSupply\": -0.15209451200915813}, {\"TotalCoinsMined\": -0.11565970906795023, \"TotalCoinSupply\": -0.1513926101040181}, {\"TotalCoinsMined\": -0.11707710604512561, \"TotalCoinSupply\": -0.15254365145771667}, {\"TotalCoinsMined\": -0.11698967406938172, \"TotalCoinSupply\": -0.13809341611189108}, {\"TotalCoinsMined\": -0.11676652098057162, \"TotalCoinSupply\": -0.12701075445178522}, {\"TotalCoinsMined\": -0.11700092131610221, \"TotalCoinSupply\": -0.15156714151485226}, {\"TotalCoinsMined\": -0.11678481036058931, \"TotalCoinSupply\": -0.14976715306053592}, {\"TotalCoinsMined\": 2.065941932126029, \"TotalCoinSupply\": 2.5730211635942704}, {\"TotalCoinsMined\": -0.11668561994279913, \"TotalCoinSupply\": -0.15205756980362445}, {\"TotalCoinsMined\": -0.11643340678798958, \"TotalCoinSupply\": -0.15213145421469185}, {\"TotalCoinsMined\": -0.11474507166346454, \"TotalCoinSupply\": -0.1490283089498622}, {\"TotalCoinsMined\": -0.1169036413582514, \"TotalCoinSupply\": -0.14976715306053592}, {\"TotalCoinsMined\": -0.07105832725976081, \"TotalCoinSupply\": -0.12183884567706917}, {\"TotalCoinsMined\": -0.11700571013051554, \"TotalCoinSupply\": -0.1474619594352339}, {\"TotalCoinsMined\": -0.11700939137356585, \"TotalCoinSupply\": -0.1513926101040181}, {\"TotalCoinsMined\": -0.11699818059662799, \"TotalCoinSupply\": -0.1525008762700287}, {\"TotalCoinsMined\": -0.09386497127373468, \"TotalCoinSupply\": 0.11311358151717496}, {\"TotalCoinsMined\": -0.09517967415745292, \"TotalCoinSupply\": -0.13809341611189108}, {\"TotalCoinsMined\": -0.11689428617853141, \"TotalCoinSupply\": -0.1513926101040181}, {\"TotalCoinsMined\": -0.09517967415745292, \"TotalCoinSupply\": -0.13809341611189108}, {\"TotalCoinsMined\": -0.024238540665908883, \"TotalCoinSupply\": -0.040565993502959564}, {\"TotalCoinsMined\": -0.11695933374182274, \"TotalCoinSupply\": -0.15213145421469185}, {\"TotalCoinsMined\": -0.1168091795674021, \"TotalCoinSupply\": -0.15162904021943371}, {\"TotalCoinsMined\": -0.11671362253048188, \"TotalCoinSupply\": -0.15255998379888258}, {\"TotalCoinsMined\": -0.11253573179346683, \"TotalCoinSupply\": 0.8815114566178476}, {\"TotalCoinsMined\": 0.2602795926026347, \"TotalCoinSupply\": -0.15287029832536556}, {\"TotalCoinsMined\": -0.07616646381398282, \"TotalCoinSupply\": -0.033473090040491815}, {\"TotalCoinsMined\": -0.116333828171682, \"TotalCoinSupply\": -0.15207234668583794}, {\"TotalCoinsMined\": -0.11707356199984305, \"TotalCoinSupply\": -0.1513169524458064}, {\"TotalCoinsMined\": -0.1167606765549724, \"TotalCoinSupply\": -0.15249749531937826}, {\"TotalCoinsMined\": -0.11681266466345887, \"TotalCoinSupply\": -0.15131872569295074}, {\"TotalCoinsMined\": -0.11709926635154093, \"TotalCoinSupply\": -0.15255998379888258}, {\"TotalCoinsMined\": -0.1163344305161369, \"TotalCoinSupply\": -0.15109707245974863}, {\"TotalCoinsMined\": -0.11678412188696183, \"TotalCoinSupply\": -0.15255998379888258}, {\"TotalCoinsMined\": -0.1163255976555018, \"TotalCoinSupply\": -0.14898693367966448}, {\"TotalCoinsMined\": -0.1167076470895205, \"TotalCoinSupply\": -0.15258900561032673}, {\"TotalCoinsMined\": -0.11655665236441151, \"TotalCoinSupply\": -0.15241389954132017}, {\"TotalCoinsMined\": -0.11706574623694374, \"TotalCoinSupply\": -0.1526727314101714}, {\"TotalCoinsMined\": 0.5588533234613455, \"TotalCoinSupply\": 0.9524404912425251}, {\"TotalCoinsMined\": -0.11682472817834326, \"TotalCoinSupply\": -0.1513926101040181}, {\"TotalCoinsMined\": -0.11709247800110915, \"TotalCoinSupply\": -0.15257919374576012}, {\"TotalCoinsMined\": -0.1166576168513548, \"TotalCoinSupply\": -0.15162904021943371}, {\"TotalCoinsMined\": -0.11274575679956148, \"TotalCoinSupply\": -0.14548185721862833}, {\"TotalCoinsMined\": -0.0974523179926744, \"TotalCoinSupply\": -0.07898588725799319}, {\"TotalCoinsMined\": -0.11677002876757538, \"TotalCoinSupply\": -0.1466640077957063}, {\"TotalCoinsMined\": -0.11596144608816364, \"TotalCoinSupply\": -0.1519245778637032}, {\"TotalCoinsMined\": -0.1170825085813873, \"TotalCoinSupply\": -0.15283926687271726}, {\"TotalCoinsMined\": -0.11525273321245573, \"TotalCoinSupply\": -0.15038778211350184}, {\"TotalCoinsMined\": -0.11658680025833427, \"TotalCoinSupply\": -0.15242699185896133}, {\"TotalCoinsMined\": -0.09517967415745292, \"TotalCoinSupply\": -0.13809341611189108}, {\"TotalCoinsMined\": 0.21881200081530627, \"TotalCoinSupply\": 0.364320579146241}, {\"TotalCoinsMined\": -0.11588971271634395, \"TotalCoinSupply\": 1.2967418468164804}, {\"TotalCoinsMined\": -0.11178888575489891, \"TotalCoinSupply\": -0.15287029832536556}, {\"TotalCoinsMined\": -0.033238576838213296, \"TotalCoinSupply\": -0.09376276947146767}, {\"TotalCoinsMined\": -0.11703060695337376, \"TotalCoinSupply\": -0.14991492188267067}, {\"TotalCoinsMined\": -0.11659599203025416, \"TotalCoinSupply\": -0.04943212283104424}, {\"TotalCoinsMined\": -0.11665695891324258, \"TotalCoinSupply\": -0.1520685620455423}, {\"TotalCoinsMined\": -0.11701185571460251, \"TotalCoinSupply\": -0.15255998379888258}, {\"TotalCoinsMined\": -0.11689697359528702, \"TotalCoinSupply\": -0.15287029832536556}, {\"TotalCoinsMined\": -0.10753959211317657, \"TotalCoinSupply\": -0.14548185721862833}, {\"TotalCoinsMined\": -0.09999932320263556, \"TotalCoinSupply\": -0.13809341611189108}, {\"TotalCoinsMined\": -0.09560218084138102, \"TotalCoinSupply\": 0.0022869649161164113}, {\"TotalCoinsMined\": 0.27628303872438753, \"TotalCoinSupply\": -0.1500626907048054}, {\"TotalCoinsMined\": -0.10627021628606251, \"TotalCoinSupply\": -0.13809341611189108}, {\"TotalCoinsMined\": -0.11660410252755285, \"TotalCoinSupply\": -0.15224966927239963}, {\"TotalCoinsMined\": -0.1157924615063898, \"TotalCoinSupply\": -0.15264864509216344}, {\"TotalCoinsMined\": 0.531624255095376, \"TotalCoinSupply\": 0.5859738123483581}, {\"TotalCoinsMined\": -0.10824211864345992, \"TotalCoinSupply\": -0.14695954543997578}, {\"TotalCoinsMined\": -0.11550085187995035, \"TotalCoinSupply\": -0.15131872569295074}, {\"TotalCoinsMined\": -0.11269255425108278, \"TotalCoinSupply\": -0.14979670682496288}, {\"TotalCoinsMined\": -0.1148358993178865, \"TotalCoinSupply\": -0.15050599717120963}, {\"TotalCoinsMined\": -0.11702437716070746, \"TotalCoinSupply\": -0.15273730638544428}, {\"TotalCoinsMined\": -0.11699737637893497, \"TotalCoinSupply\": -0.15279641391429818}, {\"TotalCoinsMined\": -0.11558009595261515, \"TotalCoinSupply\": -0.1501809057625132}, {\"TotalCoinsMined\": -0.1167375574409884, \"TotalCoinSupply\": -0.1526264157406126}, {\"TotalCoinsMined\": -0.1154706374575493, \"TotalCoinSupply\": -0.15131872569295074}, {\"TotalCoinsMined\": -0.11447648546365083, \"TotalCoinSupply\": -0.15050720296479825}, {\"TotalCoinsMined\": 0.10218216587428669, \"TotalCoinSupply\": -0.004970913052944573}, {\"TotalCoinsMined\": -0.11158206803350247, \"TotalCoinSupply\": -0.14843723366132322}, {\"TotalCoinsMined\": -0.11708360297775022, \"TotalCoinSupply\": -0.1519812007336973}, {\"TotalCoinsMined\": -0.11703508535553153, \"TotalCoinSupply\": -0.15282892305516782}, {\"TotalCoinsMined\": -0.11710508429260538, \"TotalCoinSupply\": -0.15286852509949994}, {\"TotalCoinsMined\": -0.114915321619201, \"TotalCoinSupply\": -0.12183884567706917}, {\"TotalCoinsMined\": -0.09472916364120548, \"TotalCoinSupply\": -0.15287029832536556}, {\"TotalCoinsMined\": -0.11657118752413066, \"TotalCoinSupply\": -0.1525084428612274}, {\"TotalCoinsMined\": -0.09249601460172617, \"TotalCoinSupply\": -0.15287029832536556}, {\"TotalCoinsMined\": -0.09517967415745292, \"TotalCoinSupply\": -0.13809341611189108}, {\"TotalCoinsMined\": -0.114915321619201, \"TotalCoinSupply\": -0.1513926101040181}, {\"TotalCoinsMined\": -0.11690460608146022, \"TotalCoinSupply\": -0.1527427126555709}, {\"TotalCoinsMined\": 21.591856539278897, \"TotalCoinSupply\": 14.476243093014363}, {\"TotalCoinsMined\": -0.09517967415745292, \"TotalCoinSupply\": -0.13809341611189108}, {\"TotalCoinsMined\": -0.07325117708067395, \"TotalCoinSupply\": -0.12331653389841661}, {\"TotalCoinsMined\": -0.11678075593368027, \"TotalCoinSupply\": -0.14917607777199693}, {\"TotalCoinsMined\": -0.09561336292721759, \"TotalCoinSupply\": -0.13217937374475175}, {\"TotalCoinsMined\": -0.11694816923518253, \"TotalCoinSupply\": -0.15255998379888258}, {\"TotalCoinsMined\": -0.11710535731899568, \"TotalCoinSupply\": -0.1528555214431521}]}}, {\"mode\": \"vega-lite\"});\n",
       "</script>"
      ],
      "text/plain": [
       "alt.Chart(...)"
      ]
     },
     "execution_count": 27,
     "metadata": {},
     "output_type": "execute_result"
    }
   ],
   "source": [
    "# Plot the scatter with x=\"TotalCoinsMined\" and y=\"TotalCoinSupply\"\n",
    "\n",
    "\n",
    "alt.Chart(t_crypto_scaled_df).mark_point().encode(\n",
    "    x=\"TotalCoinsMined\",\n",
    "    y=\"TotalCoinSupply\"\n",
    "    )\n"
   ]
  },
  {
   "cell_type": "code",
   "execution_count": null,
   "metadata": {},
   "outputs": [],
   "source": []
  }
 ],
 "metadata": {
  "file_extension": ".py",
  "kernelspec": {
   "display_name": "conda_python3",
   "language": "python",
   "name": "conda_python3"
  },
  "language_info": {
   "codemirror_mode": {
    "name": "ipython",
    "version": 3
   },
   "file_extension": ".py",
   "mimetype": "text/x-python",
   "name": "python",
   "nbconvert_exporter": "python",
   "pygments_lexer": "ipython3",
   "version": "3.6.13"
  },
  "mimetype": "text/x-python",
  "name": "python",
  "npconvert_exporter": "python",
  "pygments_lexer": "ipython3",
  "version": 3
 },
 "nbformat": 4,
 "nbformat_minor": 4
}
